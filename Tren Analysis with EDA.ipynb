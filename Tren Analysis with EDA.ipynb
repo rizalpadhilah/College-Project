{
  "nbformat": 4,
  "nbformat_minor": 0,
  "metadata": {
    "colab": {
      "provenance": []
    },
    "kernelspec": {
      "name": "python3",
      "display_name": "Python 3"
    },
    "language_info": {
      "name": "python"
    }
  },
  "cells": [
    {
      "cell_type": "markdown",
      "source": [
        "## **Demand Trend Analysis and Transaction Conversion Rate for Providing Better Customer Satisfaction**\n",
        "\n",
        "Ralali.com merupakan salah satu business unit terbesar yang ada di ekosistem Ralali (Ralali.com, R-Connect, R-Agent) yang bergerak sebagai Marketplace Platform dimana platform ini menghubungkan antara user (buyer dan seller) untuk model bisnis B2B di Indonesia. \n",
        "\n",
        "Ralali ingin mengembangkan bisnisnya dengan menyesuaikan targeted market yang dituju dengan mengetahui pola dalam transactional data yang biasa dicapture dari tahun ke tahun. Untuk penyesuaian tersebut Ralali juga harus memperhatikan bagaimana kepuasan user dalam menggunakan platformnya sehingga perlu dilakukan monitoring terhadap transaksi, salah satunya dengan perhitungan conversion rate dari setiap proses yang dilalui user dalam bertransaksi.\n",
        "\n",
        "Adapun dalam analisis kali ini berfokus pada peningkatan metrics Gross Merchandise Value (GMV)"
      ],
      "metadata": {
        "id": "FPBQBSgWVLam"
      }
    },
    {
      "cell_type": "markdown",
      "source": [
        "### **Get the Data**"
      ],
      "metadata": {
        "id": "E_jW6LenW_Xn"
      }
    },
    {
      "cell_type": "code",
      "execution_count": null,
      "metadata": {
        "colab": {
          "base_uri": "https://localhost:8080/"
        },
        "id": "3iW9UXiDW71C",
        "outputId": "355e7179-5855-4ea7-86fb-48ef19418d62"
      },
      "outputs": [
        {
          "output_type": "stream",
          "name": "stdout",
          "text": [
            "Mounted at /content/drive\n"
          ]
        }
      ],
      "source": [
        "#importing packages\n",
        "import numpy as np\n",
        "import pandas as pd\n",
        "import seaborn as sns\n",
        "import datetime as dt\n",
        "from sklearn import linear_model\n",
        "import statsmodels.api as sm\n",
        "from sklearn.model_selection import train_test_split\n",
        "from matplotlib import pyplot as plt\n",
        "import os\n",
        "from google.cloud import bigquery\n",
        "from google.colab import drive\n",
        "drive.mount('/content/drive')"
      ]
    },
    {
      "cell_type": "code",
      "source": [
        "#load private key JSON from google drive\n",
        "os.environ[\"GOOGLE_APPLICATION_CREDENTIALS\"]='/content/drive/MyDrive/Studi Independen - Bitlabs (Rizal)/private-key.json'"
      ],
      "metadata": {
        "id": "qCAw7DEKXFgA"
      },
      "execution_count": null,
      "outputs": []
    },
    {
      "cell_type": "code",
      "source": [
        "#get the data\n",
        "bqclient = bigquery.Client()\n",
        "\n",
        "# Download query results.\n",
        "query_string = \"\"\"\n",
        "WITH tabel_gab AS (\n",
        "SELECT\n",
        "  *\n",
        "FROM\n",
        "  `G_CID_01.ralali_transactions_Q1_2018`\n",
        "UNION ALL\n",
        "SELECT\n",
        "  *\n",
        "FROM\n",
        "  `G_CID_01.ralali_transactions_Q1_2019`\n",
        "UNION ALL\n",
        "SELECT\n",
        "  *\n",
        "FROM\n",
        "  `G_CID_01.ralali_transactions_Q1_2020`\n",
        "), \n",
        "\n",
        "tabel_gabungan AS (\n",
        "  SELECT *,\n",
        "  (price * product_quantity) AS gmv,\n",
        "  (((price * product_quantity)) * (percentage_commission/100)) AS revenue,\n",
        "  CASE\n",
        "    WHEN payment_datetime IS NOT NULL THEN 'Paid'\n",
        "  ELSE\n",
        "  'Not Paid'\n",
        "END\n",
        "  AS is_paid,\n",
        "  CASE\n",
        "    WHEN payment_datetime IS NOT NULL AND received_datetime IS NULL THEN 'Refund'\n",
        "  ELSE\n",
        "  'Non Refund'\n",
        "END\n",
        "  AS refund_status\n",
        "FROM\n",
        "  tabel_gab\n",
        ")\n",
        "\n",
        "SELECT\n",
        "  *\n",
        "FROM\n",
        "  tabel_gabungan\n",
        "WHERE\n",
        "  refund_status = 'Non Refund'\n",
        "\"\"\"\n",
        "\n",
        "df = (\n",
        "    bqclient.query(query_string)\n",
        "    .result()\n",
        "    .to_dataframe(\n",
        "        # Optionally, explicitly request to use the BigQuery Storage API. As of\n",
        "        # google-cloud-bigquery version 1.26.0 and above, the BigQuery Storage\n",
        "        # API is used by default.\n",
        "    )\n",
        ")"
      ],
      "metadata": {
        "id": "gQOWT8L7XXtb"
      },
      "execution_count": null,
      "outputs": []
    },
    {
      "cell_type": "code",
      "source": [
        "#display data\n",
        "df.head()"
      ],
      "metadata": {
        "colab": {
          "base_uri": "https://localhost:8080/",
          "height": 577
        },
        "id": "VlwjUNCUXlQC",
        "outputId": "9edbdad6-43e2-447a-91b2-ed006e08e49e"
      },
      "execution_count": null,
      "outputs": [
        {
          "output_type": "execute_result",
          "data": {
            "text/plain": [
              "                                            order_id  \\\n",
              "0  vWtd1y0/6huGN2/XeVvDsuZQoDwatiNmUATDyiR+T176ru...   \n",
              "1  hYo6AokZ1bqrZlrc/eMvqqaODQGiv5/TmUFtzkYTuY5jDZ...   \n",
              "2  aZYLoHJEF14rPOHWczVrCzZHEbwv72w9yVEOtCVNQoeA3+...   \n",
              "3  aYEM8mBNtgtgtwiXy8o7KoVr7dD8S6remri7NnvTgFprLo...   \n",
              "4  fLtNp9wUwKF9DdhOTfsq9mBjgBiPGTYdIVIthaxC5klNh8...   \n",
              "\n",
              "                                      oder_detail_id  \\\n",
              "0  5F+Im4Nc+NUSZqLbx+X1eDrweIh5M0spYtS/UdcVA7aaJ+...   \n",
              "1  X1hbQ/Sk8go6uIIMeGCtodTT1RHe747Bfix4NRcsVSMVMw...   \n",
              "2  GR22NQrEEEj8H0xYK5+06Ivz/pw7kkM6PRfduolAeb2waS...   \n",
              "3  I224XW2xDNCFAAe6UMFftC9alJNKABfKg9GKaNlLaYKyJI...   \n",
              "4  4o+vKqCoSfwwEga/7WeHhYwpvRT9NN7G+u2yhnQuAiv+72...   \n",
              "\n",
              "             order_datetime  \\\n",
              "0 2018-01-24 23:08:46+00:00   \n",
              "1 2018-03-12 15:18:13+00:00   \n",
              "2 2018-02-01 20:16:19+00:00   \n",
              "3 2018-01-15 15:49:58+00:00   \n",
              "4 2018-01-15 15:01:33+00:00   \n",
              "\n",
              "                                             item_id  \\\n",
              "0  FiwEDZtpOyYWv3+YJlwOSL3tBRSsNNNNDddisUbym/nJPF...   \n",
              "1  GYSx7Gu3Wy/DC3c/QEHBotPs/OIE1QDfKwTyWqEHhb626J...   \n",
              "2  GYSx7Gu3Wy/DC3c/QEHBotPs/OIE1QDfKwTyWqEHhb626J...   \n",
              "3  GYSx7Gu3Wy/DC3c/QEHBotPs/OIE1QDfKwTyWqEHhb626J...   \n",
              "4  GYSx7Gu3Wy/DC3c/QEHBotPs/OIE1QDfKwTyWqEHhb626J...   \n",
              "\n",
              "                                    item_name                     cat_name  \\\n",
              "0  IC LOCK Alarm Sepeda Motor Tipe 1L 1 Sandi  Automotive & Transportation   \n",
              "1             Sleeping Bag Ultralight Packing      Beauty, Sport & Fashion   \n",
              "2             Sleeping Bag Ultralight Packing      Beauty, Sport & Fashion   \n",
              "3             Sleeping Bag Ultralight Packing      Beauty, Sport & Fashion   \n",
              "4             Sleeping Bag Ultralight Packing      Beauty, Sport & Fashion   \n",
              "\n",
              "      price  product_quantity  percentage_commission         payment_method  \\\n",
              "0   70000.0                11                    0.0      BCA Bank Transfer   \n",
              "1  106900.0                11                    0.0      BCA Bank Transfer   \n",
              "2  106900.0                11                    0.0  Mandiri Bank Transfer   \n",
              "3  106900.0                11                    0.0      BNI Bank Transfer   \n",
              "4  106900.0                11                    0.0            Credit Card   \n",
              "\n",
              "   ...                                           buyer_id  \\\n",
              "0  ...  4bS8qFKVzWcs1YbiN1AH69caS28RLKfoD9Sw5mhywcKLRy...   \n",
              "1  ...  gIMTtuVLpqhxr1vGQUX7z/9BsLfyuIEsw9adNH5RFCmJoJ...   \n",
              "2  ...  iAM0QYDk/thCNhc2NLA5XjAH/wCIcbwgWXK3DpWRfOiohn...   \n",
              "3  ...  VNegkSBXo6FoVwuapctbPQhm52bDXytLzTfg4jeLYvUYZC...   \n",
              "4  ...  u+5n7OUaW4Az4ltUSf1kdFhb7aAbCYuQyNDuEDAQNucW5x...   \n",
              "\n",
              "                                           seller_id order_source  \\\n",
              "0  +4nL+1ptdvhVGUOs4XRPWrfX7udjVZHeHD5QumR31VzOzx...      website   \n",
              "1  +7J29u1/MoqIdao5nXk+a154wh0xn5yHpNAlO+cMMagBg3...      website   \n",
              "2  +7J29u1/MoqIdao5nXk+a154wh0xn5yHpNAlO+cMMagBg3...      website   \n",
              "3  +7J29u1/MoqIdao5nXk+a154wh0xn5yHpNAlO+cMMagBg3...      website   \n",
              "4  +7J29u1/MoqIdao5nXk+a154wh0xn5yHpNAlO+cMMagBg3...      website   \n",
              "\n",
              "  buyer_province_name buyer_city_name logistic_name        gmv revenue  \\\n",
              "0              Banten       Tangerang   SAP Express   770000.0     0.0   \n",
              "1          Jawa Barat         Bandung          TIKI  1175900.0     0.0   \n",
              "2         Dki Jakarta   Jakarta Pusat          TIKI  1175900.0     0.0   \n",
              "3              Banten       Tangerang          TIKI  1175900.0     0.0   \n",
              "4         Dki Jakarta   Jakarta Barat           JNE  1175900.0     0.0   \n",
              "\n",
              "  is_paid refund_status  \n",
              "0    Paid    Non Refund  \n",
              "1    Paid    Non Refund  \n",
              "2    Paid    Non Refund  \n",
              "3    Paid    Non Refund  \n",
              "4    Paid    Non Refund  \n",
              "\n",
              "[5 rows x 25 columns]"
            ],
            "text/html": [
              "\n",
              "  <div id=\"df-fd847a53-deae-4306-aa10-358a2e4d5766\">\n",
              "    <div class=\"colab-df-container\">\n",
              "      <div>\n",
              "<style scoped>\n",
              "    .dataframe tbody tr th:only-of-type {\n",
              "        vertical-align: middle;\n",
              "    }\n",
              "\n",
              "    .dataframe tbody tr th {\n",
              "        vertical-align: top;\n",
              "    }\n",
              "\n",
              "    .dataframe thead th {\n",
              "        text-align: right;\n",
              "    }\n",
              "</style>\n",
              "<table border=\"1\" class=\"dataframe\">\n",
              "  <thead>\n",
              "    <tr style=\"text-align: right;\">\n",
              "      <th></th>\n",
              "      <th>order_id</th>\n",
              "      <th>oder_detail_id</th>\n",
              "      <th>order_datetime</th>\n",
              "      <th>item_id</th>\n",
              "      <th>item_name</th>\n",
              "      <th>cat_name</th>\n",
              "      <th>price</th>\n",
              "      <th>product_quantity</th>\n",
              "      <th>percentage_commission</th>\n",
              "      <th>payment_method</th>\n",
              "      <th>...</th>\n",
              "      <th>buyer_id</th>\n",
              "      <th>seller_id</th>\n",
              "      <th>order_source</th>\n",
              "      <th>buyer_province_name</th>\n",
              "      <th>buyer_city_name</th>\n",
              "      <th>logistic_name</th>\n",
              "      <th>gmv</th>\n",
              "      <th>revenue</th>\n",
              "      <th>is_paid</th>\n",
              "      <th>refund_status</th>\n",
              "    </tr>\n",
              "  </thead>\n",
              "  <tbody>\n",
              "    <tr>\n",
              "      <th>0</th>\n",
              "      <td>vWtd1y0/6huGN2/XeVvDsuZQoDwatiNmUATDyiR+T176ru...</td>\n",
              "      <td>5F+Im4Nc+NUSZqLbx+X1eDrweIh5M0spYtS/UdcVA7aaJ+...</td>\n",
              "      <td>2018-01-24 23:08:46+00:00</td>\n",
              "      <td>FiwEDZtpOyYWv3+YJlwOSL3tBRSsNNNNDddisUbym/nJPF...</td>\n",
              "      <td>IC LOCK Alarm Sepeda Motor Tipe 1L 1 Sandi</td>\n",
              "      <td>Automotive &amp; Transportation</td>\n",
              "      <td>70000.0</td>\n",
              "      <td>11</td>\n",
              "      <td>0.0</td>\n",
              "      <td>BCA Bank Transfer</td>\n",
              "      <td>...</td>\n",
              "      <td>4bS8qFKVzWcs1YbiN1AH69caS28RLKfoD9Sw5mhywcKLRy...</td>\n",
              "      <td>+4nL+1ptdvhVGUOs4XRPWrfX7udjVZHeHD5QumR31VzOzx...</td>\n",
              "      <td>website</td>\n",
              "      <td>Banten</td>\n",
              "      <td>Tangerang</td>\n",
              "      <td>SAP Express</td>\n",
              "      <td>770000.0</td>\n",
              "      <td>0.0</td>\n",
              "      <td>Paid</td>\n",
              "      <td>Non Refund</td>\n",
              "    </tr>\n",
              "    <tr>\n",
              "      <th>1</th>\n",
              "      <td>hYo6AokZ1bqrZlrc/eMvqqaODQGiv5/TmUFtzkYTuY5jDZ...</td>\n",
              "      <td>X1hbQ/Sk8go6uIIMeGCtodTT1RHe747Bfix4NRcsVSMVMw...</td>\n",
              "      <td>2018-03-12 15:18:13+00:00</td>\n",
              "      <td>GYSx7Gu3Wy/DC3c/QEHBotPs/OIE1QDfKwTyWqEHhb626J...</td>\n",
              "      <td>Sleeping Bag Ultralight Packing</td>\n",
              "      <td>Beauty, Sport &amp; Fashion</td>\n",
              "      <td>106900.0</td>\n",
              "      <td>11</td>\n",
              "      <td>0.0</td>\n",
              "      <td>BCA Bank Transfer</td>\n",
              "      <td>...</td>\n",
              "      <td>gIMTtuVLpqhxr1vGQUX7z/9BsLfyuIEsw9adNH5RFCmJoJ...</td>\n",
              "      <td>+7J29u1/MoqIdao5nXk+a154wh0xn5yHpNAlO+cMMagBg3...</td>\n",
              "      <td>website</td>\n",
              "      <td>Jawa Barat</td>\n",
              "      <td>Bandung</td>\n",
              "      <td>TIKI</td>\n",
              "      <td>1175900.0</td>\n",
              "      <td>0.0</td>\n",
              "      <td>Paid</td>\n",
              "      <td>Non Refund</td>\n",
              "    </tr>\n",
              "    <tr>\n",
              "      <th>2</th>\n",
              "      <td>aZYLoHJEF14rPOHWczVrCzZHEbwv72w9yVEOtCVNQoeA3+...</td>\n",
              "      <td>GR22NQrEEEj8H0xYK5+06Ivz/pw7kkM6PRfduolAeb2waS...</td>\n",
              "      <td>2018-02-01 20:16:19+00:00</td>\n",
              "      <td>GYSx7Gu3Wy/DC3c/QEHBotPs/OIE1QDfKwTyWqEHhb626J...</td>\n",
              "      <td>Sleeping Bag Ultralight Packing</td>\n",
              "      <td>Beauty, Sport &amp; Fashion</td>\n",
              "      <td>106900.0</td>\n",
              "      <td>11</td>\n",
              "      <td>0.0</td>\n",
              "      <td>Mandiri Bank Transfer</td>\n",
              "      <td>...</td>\n",
              "      <td>iAM0QYDk/thCNhc2NLA5XjAH/wCIcbwgWXK3DpWRfOiohn...</td>\n",
              "      <td>+7J29u1/MoqIdao5nXk+a154wh0xn5yHpNAlO+cMMagBg3...</td>\n",
              "      <td>website</td>\n",
              "      <td>Dki Jakarta</td>\n",
              "      <td>Jakarta Pusat</td>\n",
              "      <td>TIKI</td>\n",
              "      <td>1175900.0</td>\n",
              "      <td>0.0</td>\n",
              "      <td>Paid</td>\n",
              "      <td>Non Refund</td>\n",
              "    </tr>\n",
              "    <tr>\n",
              "      <th>3</th>\n",
              "      <td>aYEM8mBNtgtgtwiXy8o7KoVr7dD8S6remri7NnvTgFprLo...</td>\n",
              "      <td>I224XW2xDNCFAAe6UMFftC9alJNKABfKg9GKaNlLaYKyJI...</td>\n",
              "      <td>2018-01-15 15:49:58+00:00</td>\n",
              "      <td>GYSx7Gu3Wy/DC3c/QEHBotPs/OIE1QDfKwTyWqEHhb626J...</td>\n",
              "      <td>Sleeping Bag Ultralight Packing</td>\n",
              "      <td>Beauty, Sport &amp; Fashion</td>\n",
              "      <td>106900.0</td>\n",
              "      <td>11</td>\n",
              "      <td>0.0</td>\n",
              "      <td>BNI Bank Transfer</td>\n",
              "      <td>...</td>\n",
              "      <td>VNegkSBXo6FoVwuapctbPQhm52bDXytLzTfg4jeLYvUYZC...</td>\n",
              "      <td>+7J29u1/MoqIdao5nXk+a154wh0xn5yHpNAlO+cMMagBg3...</td>\n",
              "      <td>website</td>\n",
              "      <td>Banten</td>\n",
              "      <td>Tangerang</td>\n",
              "      <td>TIKI</td>\n",
              "      <td>1175900.0</td>\n",
              "      <td>0.0</td>\n",
              "      <td>Paid</td>\n",
              "      <td>Non Refund</td>\n",
              "    </tr>\n",
              "    <tr>\n",
              "      <th>4</th>\n",
              "      <td>fLtNp9wUwKF9DdhOTfsq9mBjgBiPGTYdIVIthaxC5klNh8...</td>\n",
              "      <td>4o+vKqCoSfwwEga/7WeHhYwpvRT9NN7G+u2yhnQuAiv+72...</td>\n",
              "      <td>2018-01-15 15:01:33+00:00</td>\n",
              "      <td>GYSx7Gu3Wy/DC3c/QEHBotPs/OIE1QDfKwTyWqEHhb626J...</td>\n",
              "      <td>Sleeping Bag Ultralight Packing</td>\n",
              "      <td>Beauty, Sport &amp; Fashion</td>\n",
              "      <td>106900.0</td>\n",
              "      <td>11</td>\n",
              "      <td>0.0</td>\n",
              "      <td>Credit Card</td>\n",
              "      <td>...</td>\n",
              "      <td>u+5n7OUaW4Az4ltUSf1kdFhb7aAbCYuQyNDuEDAQNucW5x...</td>\n",
              "      <td>+7J29u1/MoqIdao5nXk+a154wh0xn5yHpNAlO+cMMagBg3...</td>\n",
              "      <td>website</td>\n",
              "      <td>Dki Jakarta</td>\n",
              "      <td>Jakarta Barat</td>\n",
              "      <td>JNE</td>\n",
              "      <td>1175900.0</td>\n",
              "      <td>0.0</td>\n",
              "      <td>Paid</td>\n",
              "      <td>Non Refund</td>\n",
              "    </tr>\n",
              "  </tbody>\n",
              "</table>\n",
              "<p>5 rows × 25 columns</p>\n",
              "</div>\n",
              "      <button class=\"colab-df-convert\" onclick=\"convertToInteractive('df-fd847a53-deae-4306-aa10-358a2e4d5766')\"\n",
              "              title=\"Convert this dataframe to an interactive table.\"\n",
              "              style=\"display:none;\">\n",
              "        \n",
              "  <svg xmlns=\"http://www.w3.org/2000/svg\" height=\"24px\"viewBox=\"0 0 24 24\"\n",
              "       width=\"24px\">\n",
              "    <path d=\"M0 0h24v24H0V0z\" fill=\"none\"/>\n",
              "    <path d=\"M18.56 5.44l.94 2.06.94-2.06 2.06-.94-2.06-.94-.94-2.06-.94 2.06-2.06.94zm-11 1L8.5 8.5l.94-2.06 2.06-.94-2.06-.94L8.5 2.5l-.94 2.06-2.06.94zm10 10l.94 2.06.94-2.06 2.06-.94-2.06-.94-.94-2.06-.94 2.06-2.06.94z\"/><path d=\"M17.41 7.96l-1.37-1.37c-.4-.4-.92-.59-1.43-.59-.52 0-1.04.2-1.43.59L10.3 9.45l-7.72 7.72c-.78.78-.78 2.05 0 2.83L4 21.41c.39.39.9.59 1.41.59.51 0 1.02-.2 1.41-.59l7.78-7.78 2.81-2.81c.8-.78.8-2.07 0-2.86zM5.41 20L4 18.59l7.72-7.72 1.47 1.35L5.41 20z\"/>\n",
              "  </svg>\n",
              "      </button>\n",
              "      \n",
              "  <style>\n",
              "    .colab-df-container {\n",
              "      display:flex;\n",
              "      flex-wrap:wrap;\n",
              "      gap: 12px;\n",
              "    }\n",
              "\n",
              "    .colab-df-convert {\n",
              "      background-color: #E8F0FE;\n",
              "      border: none;\n",
              "      border-radius: 50%;\n",
              "      cursor: pointer;\n",
              "      display: none;\n",
              "      fill: #1967D2;\n",
              "      height: 32px;\n",
              "      padding: 0 0 0 0;\n",
              "      width: 32px;\n",
              "    }\n",
              "\n",
              "    .colab-df-convert:hover {\n",
              "      background-color: #E2EBFA;\n",
              "      box-shadow: 0px 1px 2px rgba(60, 64, 67, 0.3), 0px 1px 3px 1px rgba(60, 64, 67, 0.15);\n",
              "      fill: #174EA6;\n",
              "    }\n",
              "\n",
              "    [theme=dark] .colab-df-convert {\n",
              "      background-color: #3B4455;\n",
              "      fill: #D2E3FC;\n",
              "    }\n",
              "\n",
              "    [theme=dark] .colab-df-convert:hover {\n",
              "      background-color: #434B5C;\n",
              "      box-shadow: 0px 1px 3px 1px rgba(0, 0, 0, 0.15);\n",
              "      filter: drop-shadow(0px 1px 2px rgba(0, 0, 0, 0.3));\n",
              "      fill: #FFFFFF;\n",
              "    }\n",
              "  </style>\n",
              "\n",
              "      <script>\n",
              "        const buttonEl =\n",
              "          document.querySelector('#df-fd847a53-deae-4306-aa10-358a2e4d5766 button.colab-df-convert');\n",
              "        buttonEl.style.display =\n",
              "          google.colab.kernel.accessAllowed ? 'block' : 'none';\n",
              "\n",
              "        async function convertToInteractive(key) {\n",
              "          const element = document.querySelector('#df-fd847a53-deae-4306-aa10-358a2e4d5766');\n",
              "          const dataTable =\n",
              "            await google.colab.kernel.invokeFunction('convertToInteractive',\n",
              "                                                     [key], {});\n",
              "          if (!dataTable) return;\n",
              "\n",
              "          const docLinkHtml = 'Like what you see? Visit the ' +\n",
              "            '<a target=\"_blank\" href=https://colab.research.google.com/notebooks/data_table.ipynb>data table notebook</a>'\n",
              "            + ' to learn more about interactive tables.';\n",
              "          element.innerHTML = '';\n",
              "          dataTable['output_type'] = 'display_data';\n",
              "          await google.colab.output.renderOutput(dataTable, element);\n",
              "          const docLink = document.createElement('div');\n",
              "          docLink.innerHTML = docLinkHtml;\n",
              "          element.appendChild(docLink);\n",
              "        }\n",
              "      </script>\n",
              "    </div>\n",
              "  </div>\n",
              "  "
            ]
          },
          "metadata": {},
          "execution_count": 4
        }
      ]
    },
    {
      "cell_type": "markdown",
      "source": [
        "### **Handling Missing Value**"
      ],
      "metadata": {
        "id": "uEHViKAAkvzD"
      }
    },
    {
      "cell_type": "code",
      "source": [
        "#display info data\n",
        "df.info()"
      ],
      "metadata": {
        "colab": {
          "base_uri": "https://localhost:8080/"
        },
        "id": "eV_67lLBX5xQ",
        "outputId": "a55ef30e-b84c-4d7a-9f63-55d996279972"
      },
      "execution_count": null,
      "outputs": [
        {
          "output_type": "stream",
          "name": "stdout",
          "text": [
            "<class 'pandas.core.frame.DataFrame'>\n",
            "RangeIndex: 53287 entries, 0 to 53286\n",
            "Data columns (total 25 columns):\n",
            " #   Column                 Non-Null Count  Dtype              \n",
            "---  ------                 --------------  -----              \n",
            " 0   order_id               53287 non-null  object             \n",
            " 1   oder_detail_id         53287 non-null  object             \n",
            " 2   order_datetime         53287 non-null  datetime64[ns, UTC]\n",
            " 3   item_id                53287 non-null  object             \n",
            " 4   item_name              53287 non-null  object             \n",
            " 5   cat_name               53287 non-null  object             \n",
            " 6   price                  53287 non-null  float64            \n",
            " 7   product_quantity       53287 non-null  Int64              \n",
            " 8   percentage_commission  53287 non-null  float64            \n",
            " 9   payment_method         53287 non-null  object             \n",
            " 10  payment_datetime       53287 non-null  datetime64[ns, UTC]\n",
            " 11  processed_datetime     52398 non-null  datetime64[ns, UTC]\n",
            " 12  delivered_datetime     52507 non-null  datetime64[ns, UTC]\n",
            " 13  received_datetime      53287 non-null  datetime64[ns, UTC]\n",
            " 14  settled_datetime       53079 non-null  datetime64[ns, UTC]\n",
            " 15  buyer_id               53287 non-null  object             \n",
            " 16  seller_id              53287 non-null  object             \n",
            " 17  order_source           53287 non-null  object             \n",
            " 18  buyer_province_name    53287 non-null  object             \n",
            " 19  buyer_city_name        53287 non-null  object             \n",
            " 20  logistic_name          53287 non-null  object             \n",
            " 21  gmv                    53287 non-null  float64            \n",
            " 22  revenue                53287 non-null  float64            \n",
            " 23  is_paid                53287 non-null  object             \n",
            " 24  refund_status          53287 non-null  object             \n",
            "dtypes: Int64(1), datetime64[ns, UTC](6), float64(4), object(14)\n",
            "memory usage: 10.2+ MB\n"
          ]
        }
      ]
    },
    {
      "cell_type": "code",
      "source": [
        "#checking missing value each columns\n",
        "df.isnull().any()"
      ],
      "metadata": {
        "colab": {
          "base_uri": "https://localhost:8080/"
        },
        "id": "y3TPdq1gYOP5",
        "outputId": "8bc69edc-c371-458d-d857-ae302e2a81bf"
      },
      "execution_count": null,
      "outputs": [
        {
          "output_type": "execute_result",
          "data": {
            "text/plain": [
              "order_id                 False\n",
              "oder_detail_id           False\n",
              "order_datetime           False\n",
              "item_id                  False\n",
              "item_name                False\n",
              "cat_name                 False\n",
              "price                    False\n",
              "product_quantity         False\n",
              "percentage_commission    False\n",
              "payment_method           False\n",
              "payment_datetime         False\n",
              "processed_datetime        True\n",
              "delivered_datetime        True\n",
              "received_datetime        False\n",
              "settled_datetime          True\n",
              "buyer_id                 False\n",
              "seller_id                False\n",
              "order_source             False\n",
              "buyer_province_name      False\n",
              "buyer_city_name          False\n",
              "logistic_name            False\n",
              "gmv                      False\n",
              "revenue                  False\n",
              "is_paid                  False\n",
              "refund_status            False\n",
              "dtype: bool"
            ]
          },
          "metadata": {},
          "execution_count": 6
        }
      ]
    },
    {
      "cell_type": "code",
      "source": [
        "#handling missing value\n",
        "df['processed_datetime'].fillna(df['payment_datetime'], inplace=True)\n",
        "df['delivered_datetime'].fillna(df['payment_datetime'], inplace=True)\n",
        "df['settled_datetime'].fillna(df['received_datetime'], inplace=True)\n",
        "#convert datetime to year and month columns\n",
        "df['Year'] = df['order_datetime'].dt.year\n",
        "df['Month'] = df['order_datetime'].dt.month"
      ],
      "metadata": {
        "id": "qoMhh7P_YlGa"
      },
      "execution_count": null,
      "outputs": []
    },
    {
      "cell_type": "code",
      "source": [
        "#display info data\n",
        "df.info()"
      ],
      "metadata": {
        "colab": {
          "base_uri": "https://localhost:8080/"
        },
        "id": "xKBrGe_0ZdoU",
        "outputId": "760d50e4-166c-4a0b-8c78-1ce83145338f"
      },
      "execution_count": null,
      "outputs": [
        {
          "output_type": "stream",
          "name": "stdout",
          "text": [
            "<class 'pandas.core.frame.DataFrame'>\n",
            "RangeIndex: 53287 entries, 0 to 53286\n",
            "Data columns (total 27 columns):\n",
            " #   Column                 Non-Null Count  Dtype              \n",
            "---  ------                 --------------  -----              \n",
            " 0   order_id               53287 non-null  object             \n",
            " 1   oder_detail_id         53287 non-null  object             \n",
            " 2   order_datetime         53287 non-null  datetime64[ns, UTC]\n",
            " 3   item_id                53287 non-null  object             \n",
            " 4   item_name              53287 non-null  object             \n",
            " 5   cat_name               53287 non-null  object             \n",
            " 6   price                  53287 non-null  float64            \n",
            " 7   product_quantity       53287 non-null  Int64              \n",
            " 8   percentage_commission  53287 non-null  float64            \n",
            " 9   payment_method         53287 non-null  object             \n",
            " 10  payment_datetime       53287 non-null  datetime64[ns, UTC]\n",
            " 11  processed_datetime     53287 non-null  datetime64[ns, UTC]\n",
            " 12  delivered_datetime     53287 non-null  datetime64[ns, UTC]\n",
            " 13  received_datetime      53287 non-null  datetime64[ns, UTC]\n",
            " 14  settled_datetime       53287 non-null  datetime64[ns, UTC]\n",
            " 15  buyer_id               53287 non-null  object             \n",
            " 16  seller_id              53287 non-null  object             \n",
            " 17  order_source           53287 non-null  object             \n",
            " 18  buyer_province_name    53287 non-null  object             \n",
            " 19  buyer_city_name        53287 non-null  object             \n",
            " 20  logistic_name          53287 non-null  object             \n",
            " 21  gmv                    53287 non-null  float64            \n",
            " 22  revenue                53287 non-null  float64            \n",
            " 23  is_paid                53287 non-null  object             \n",
            " 24  refund_status          53287 non-null  object             \n",
            " 25  Year                   53287 non-null  int64              \n",
            " 26  Month                  53287 non-null  int64              \n",
            "dtypes: Int64(1), datetime64[ns, UTC](6), float64(4), int64(2), object(14)\n",
            "memory usage: 11.0+ MB\n"
          ]
        }
      ]
    },
    {
      "cell_type": "markdown",
      "source": [
        "## **Data Transformation**"
      ],
      "metadata": {
        "id": "wJv4uMMrFQTp"
      }
    },
    {
      "cell_type": "code",
      "source": [
        "#display categorical variable unique value\n",
        "print(df['cat_name'].unique())\n",
        "print(df['order_source'].unique())\n",
        "print(df['logistic_name'].unique())\n",
        "print(df['buyer_city_name'].unique())\n",
        "print(df['payment_method'].unique())"
      ],
      "metadata": {
        "colab": {
          "base_uri": "https://localhost:8080/"
        },
        "id": "xQh7uSQpZur7",
        "outputId": "5a309c6e-1d1c-440c-f46d-98f58370badb"
      },
      "execution_count": null,
      "outputs": [
        {
          "output_type": "stream",
          "name": "stdout",
          "text": [
            "['Automotive & Transportation' 'Beauty, Sport & Fashion'\n",
            " 'Agriculture & Food' 'Furnitures & Decorations' 'Electronics'\n",
            " 'Computer & Communication' 'Services' 'Office & Store Supplies' 'Horeca'\n",
            " 'Building Materials' 'Machinery & Industrial Parts' 'Health & Medical']\n",
            "['website' 'Android' 'ios' 'CMS' 'Web Ralali']\n",
            "['SAP Express' 'TIKI' 'JNE' 'Free Ongkir Nusantara' 'Free Ongkir Lokal'\n",
            " 'First Logistic' 'J&T' 'SiCepat' 'Ralali Kargo' 'RPX' 'Wahana' 'GO-SEND']\n",
            "['Tangerang' 'Bandung' 'Jakarta Pusat' 'Jakarta Barat' 'Jakarta Utara'\n",
            " 'Yogyakarta' 'Ciamis' 'Jakarta Selatan' 'Kendal' 'Tegal' 'Sidoarjo'\n",
            " 'Surakarta (solo)' 'Blora' 'Sukabumi' 'Tangerang Selatan' 'Semarang'\n",
            " 'Batang' 'Sleman' 'Blitar' 'Brebes' 'Jakarta Timur' 'Nganjuk'\n",
            " 'Bandar Lampung' 'Kuningan' 'Singkawang' 'Gunung Kidul' 'Pekalongan'\n",
            " 'Bekasi' 'Tuban' 'Surabaya' 'Klaten' 'Bogor' 'Malang' 'Cilegon' 'Depok'\n",
            " 'Pematang Siantar' 'Kudus' 'Serang' 'Sawah Lunto' 'Indramayu' 'Gorontalo'\n",
            " 'Badung' 'Pati' 'Palembang' 'Lumajang' 'Magetan' 'Kotamobagu' 'Pekanbaru'\n",
            " 'Tasikmalaya' 'Banyumas' 'Mojokerto' 'Banjarnegara' 'Purwakarta' 'Bantul'\n",
            " 'Demak' 'Tulungagung' 'Banda Aceh' 'Karawang' 'Cirebon' 'Cimahi'\n",
            " 'Purworejo' 'Jombang' 'Karanganyar' 'Bandung Barat' 'Rembang' 'Jepara'\n",
            " 'Grobogan' 'Pemalang' 'Sragen' 'Sumedang' 'Banjar' 'Langkat' 'Medan'\n",
            " 'Jember' 'Kediri' 'Bojonegoro' 'Pacitan' 'Bangkalan' 'Cilacap' 'Lebak'\n",
            " 'Lamongan' 'Pasuruan' 'Aceh Timur' 'Salatiga' 'Madiun' 'Cianjur' 'Solok'\n",
            " 'Tarakan' 'Pringsewu' 'Berau' 'Purbalingga' 'Sukoharjo' 'Solo'\n",
            " 'Trenggalek' 'Payakumbuh' 'Pontianak' 'Kebumen' 'Gresik' 'Batu'\n",
            " 'Buleleng' 'Denpasar' 'Ngawi' 'Pandeglang' 'Probolinggo' 'Ponorogo'\n",
            " 'Sarolangun' 'Magelang' 'Temanggung' 'Boyolali' 'Subang' 'Makassar'\n",
            " 'Pangkal Pinang' 'Garut' 'Padang Pariaman' 'Mataram' 'Banyuwangi'\n",
            " 'Aceh Besar' 'Banjarmasin' 'Wonogiri' 'Samarinda' 'Deli Serdang' 'Batam'\n",
            " 'Jambi' 'Sampang' 'Majalengka' 'Gunung Mas' 'Karo' 'Manado' 'Minahasa'\n",
            " 'Binjai' 'Jembrana' 'Halmahera Selatan' 'Bangli' 'Kapuas Hulu'\n",
            " 'Bengkulu Tengah' 'Bangka Barat' 'Lampung Barat' 'Wonosobo' 'Kutai Timur'\n",
            " 'Kulon Progo' 'Pamekasan' 'Penajam Paser Utara' 'Gowa' 'Dumai'\n",
            " 'Indragiri Hilir' 'Gianyar' 'Banyuasin' 'Empat Lawang' 'Lahat' 'Padang'\n",
            " 'Bone' 'Lubuk Linggau' 'Tapanuli Tengah' 'Prabumulih'\n",
            " 'Ogan Komering Ilir' 'Lhokseumawe' 'Kampar' 'Bantaeng' 'Bulukumba'\n",
            " 'Bangka' 'Muara Enim' 'Musi Banyuasin' 'Pangkajene Kepulauan' 'Pelalawan'\n",
            " 'Batu Bara' 'Batang Hari' 'Jeneponto' 'Manggarai Barat' 'Serdang Bedagai'\n",
            " 'Simalungun' 'Asahan' 'Palopo' 'Lampung Timur' 'Sumenep' 'Teluk Bintuni'\n",
            " 'Ogan Komering Ulu Timur' 'Metro' 'Katingan' 'Siak' 'Lampung Selatan'\n",
            " 'Toba Samosir' 'Tanjung Jabung Barat' 'Lombok Tengah' 'Ambon'\n",
            " 'Musi Rawas' 'Way Kanan' 'Belitung Timur' 'Pidie'\n",
            " 'Ogan Komering Ulu Selatan' 'Tabalong'\n",
            " 'Sijunjung (sawah Lunto Sijunjung)' 'Lombok Utara' 'Bengkulu Utara'\n",
            " 'Aceh Barat' 'Toraja Utara' 'Buton' 'Sukamara' 'Paser' 'Bengkalis'\n",
            " 'Aceh Tenggara' 'Sumbawa Barat' 'Lombok Timur' 'Kupang' 'Agam'\n",
            " 'Bengkulu Selatan' 'Pesisir Selatan' 'Bima' 'Balikpapan' 'Sambas'\n",
            " 'Tana Toraja' 'Tanah Datar' 'Pariaman' 'Bungo' 'Bukittinggi'\n",
            " 'Gunungsitoli' 'Barito Utara' 'Karimun' 'Labuhan Batu' 'Pasaman Barat'\n",
            " 'Bengkulu']\n",
            "['BCA Bank Transfer' 'Mandiri Bank Transfer' 'BNI Bank Transfer'\n",
            " 'Credit Card' 'BRI' 'BRI Bank Transfer' 'Mandiri' 'BNI' 'BII'\n",
            " 'Mandiri Internet Banking' 'Kredivo' 'Permata' 'DBS Bank Transfer'\n",
            " 'Payment Nothing' 'BCA' 'Ovo' 'Bank BCA' 'Ralali Wallet']\n"
          ]
        }
      ]
    },
    {
      "cell_type": "code",
      "source": [
        "#Replace string\n",
        "df['order_source'] = df['order_source'].str.replace('Web Ralali', 'website')\n",
        "df['payment_method'] = df['payment_method'].str.replace('BCA Bank Transfer', 'BCA')\n",
        "df['payment_method'] = df['payment_method'].str.replace('Bank BCA', 'BCA')\n",
        "df['payment_method'] = df['payment_method'].str.replace('BRI Bank Transfer', 'BRI')\n",
        "df['payment_method'] = df['payment_method'].str.replace('Mandiri Bank Transfer', 'Mandiri')\n",
        "df['payment_method'] = df['payment_method'].str.replace('Mandiri Internet Banking', 'Mandiri')\n",
        "df['payment_method'] = df['payment_method'].str.replace('BNI Bank Transfer', 'BNI')"
      ],
      "metadata": {
        "id": "5pFfUkyjbuVs"
      },
      "execution_count": null,
      "outputs": []
    },
    {
      "cell_type": "code",
      "source": [
        "#check unique value\n",
        "print(df['payment_method'].unique())"
      ],
      "metadata": {
        "colab": {
          "base_uri": "https://localhost:8080/"
        },
        "id": "CMpeYzOG-w7b",
        "outputId": "25fce059-aa25-48c5-82ab-b96ce49bc260"
      },
      "execution_count": null,
      "outputs": [
        {
          "output_type": "stream",
          "name": "stdout",
          "text": [
            "['BCA' 'Mandiri' 'BNI' 'Credit Card' 'BRI' 'BII' 'Kredivo' 'Permata'\n",
            " 'DBS Bank Transfer' 'Payment Nothing' 'Ovo' 'Ralali Wallet']\n"
          ]
        }
      ]
    },
    {
      "cell_type": "markdown",
      "source": [
        "## **Data Description**"
      ],
      "metadata": {
        "id": "yr8OlRNTFZtf"
      }
    },
    {
      "cell_type": "code",
      "source": [
        "#check statistics descriptive and distribution data of gmv\n",
        "print(df['gmv'].describe())\n",
        "plt.figure(figsize=(10, 5))\n",
        "sns.distplot(df['gmv'], color='b', bins=100, hist_kws={'alpha': 0.4});"
      ],
      "metadata": {
        "colab": {
          "base_uri": "https://localhost:8080/",
          "height": 556
        },
        "id": "h3UcUTNicpPJ",
        "outputId": "6d4da8f7-15d4-4735-f106-a01363a4324f"
      },
      "execution_count": null,
      "outputs": [
        {
          "output_type": "stream",
          "name": "stdout",
          "text": [
            "count    5.328700e+04\n",
            "mean     1.102292e+07\n",
            "std      6.920814e+07\n",
            "min      1.210000e+05\n",
            "25%      5.600000e+05\n",
            "50%      1.320000e+06\n",
            "75%      4.488625e+06\n",
            "max      3.297360e+09\n",
            "Name: gmv, dtype: float64\n"
          ]
        },
        {
          "output_type": "stream",
          "name": "stderr",
          "text": [
            "/usr/local/lib/python3.8/dist-packages/seaborn/distributions.py:2619: FutureWarning: `distplot` is a deprecated function and will be removed in a future version. Please adapt your code to use either `displot` (a figure-level function with similar flexibility) or `histplot` (an axes-level function for histograms).\n",
            "  warnings.warn(msg, FutureWarning)\n"
          ]
        },
        {
          "output_type": "display_data",
          "data": {
            "text/plain": [
              "<Figure size 720x360 with 1 Axes>"
            ],
            "image/png": "[encoded data removed]"
          },
          "metadata": {
            "needs_background": "light"
          }
        }
      ]
    },
    {
      "cell_type": "code",
      "source": [
        "#select variable numerical\n",
        "df_num = df.select_dtypes(include = ['float64', 'int64'])\n",
        "df_num.head()"
      ],
      "metadata": {
        "colab": {
          "base_uri": "https://localhost:8080/",
          "height": 206
        },
        "id": "gupeoapsc0Eh",
        "outputId": "8c47f612-8ad7-4b58-be93-e0033f6c160a"
      },
      "execution_count": null,
      "outputs": [
        {
          "output_type": "execute_result",
          "data": {
            "text/plain": [
              "      price  product_quantity  percentage_commission        gmv  revenue  \\\n",
              "0   70000.0                11                    0.0   770000.0      0.0   \n",
              "1  106900.0                11                    0.0  1175900.0      0.0   \n",
              "2  106900.0                11                    0.0  1175900.0      0.0   \n",
              "3  106900.0                11                    0.0  1175900.0      0.0   \n",
              "4  106900.0                11                    0.0  1175900.0      0.0   \n",
              "\n",
              "   Year  Month  \n",
              "0  2018      1  \n",
              "1  2018      3  \n",
              "2  2018      2  \n",
              "3  2018      1  \n",
              "4  2018      1  "
            ],
            "text/html": [
              "\n",
              "  <div id=\"df-ea1e485c-03e8-422e-8481-d9aa2f21b256\">\n",
              "    <div class=\"colab-df-container\">\n",
              "      <div>\n",
              "<style scoped>\n",
              "    .dataframe tbody tr th:only-of-type {\n",
              "        vertical-align: middle;\n",
              "    }\n",
              "\n",
              "    .dataframe tbody tr th {\n",
              "        vertical-align: top;\n",
              "    }\n",
              "\n",
              "    .dataframe thead th {\n",
              "        text-align: right;\n",
              "    }\n",
              "</style>\n",
              "<table border=\"1\" class=\"dataframe\">\n",
              "  <thead>\n",
              "    <tr style=\"text-align: right;\">\n",
              "      <th></th>\n",
              "      <th>price</th>\n",
              "      <th>product_quantity</th>\n",
              "      <th>percentage_commission</th>\n",
              "      <th>gmv</th>\n",
              "      <th>revenue</th>\n",
              "      <th>Year</th>\n",
              "      <th>Month</th>\n",
              "    </tr>\n",
              "  </thead>\n",
              "  <tbody>\n",
              "    <tr>\n",
              "      <th>0</th>\n",
              "      <td>70000.0</td>\n",
              "      <td>11</td>\n",
              "      <td>0.0</td>\n",
              "      <td>770000.0</td>\n",
              "      <td>0.0</td>\n",
              "      <td>2018</td>\n",
              "      <td>1</td>\n",
              "    </tr>\n",
              "    <tr>\n",
              "      <th>1</th>\n",
              "      <td>106900.0</td>\n",
              "      <td>11</td>\n",
              "      <td>0.0</td>\n",
              "      <td>1175900.0</td>\n",
              "      <td>0.0</td>\n",
              "      <td>2018</td>\n",
              "      <td>3</td>\n",
              "    </tr>\n",
              "    <tr>\n",
              "      <th>2</th>\n",
              "      <td>106900.0</td>\n",
              "      <td>11</td>\n",
              "      <td>0.0</td>\n",
              "      <td>1175900.0</td>\n",
              "      <td>0.0</td>\n",
              "      <td>2018</td>\n",
              "      <td>2</td>\n",
              "    </tr>\n",
              "    <tr>\n",
              "      <th>3</th>\n",
              "      <td>106900.0</td>\n",
              "      <td>11</td>\n",
              "      <td>0.0</td>\n",
              "      <td>1175900.0</td>\n",
              "      <td>0.0</td>\n",
              "      <td>2018</td>\n",
              "      <td>1</td>\n",
              "    </tr>\n",
              "    <tr>\n",
              "      <th>4</th>\n",
              "      <td>106900.0</td>\n",
              "      <td>11</td>\n",
              "      <td>0.0</td>\n",
              "      <td>1175900.0</td>\n",
              "      <td>0.0</td>\n",
              "      <td>2018</td>\n",
              "      <td>1</td>\n",
              "    </tr>\n",
              "  </tbody>\n",
              "</table>\n",
              "</div>\n",
              "      <button class=\"colab-df-convert\" onclick=\"convertToInteractive('df-ea1e485c-03e8-422e-8481-d9aa2f21b256')\"\n",
              "              title=\"Convert this dataframe to an interactive table.\"\n",
              "              style=\"display:none;\">\n",
              "        \n",
              "  <svg xmlns=\"http://www.w3.org/2000/svg\" height=\"24px\"viewBox=\"0 0 24 24\"\n",
              "       width=\"24px\">\n",
              "    <path d=\"M0 0h24v24H0V0z\" fill=\"none\"/>\n",
              "    <path d=\"M18.56 5.44l.94 2.06.94-2.06 2.06-.94-2.06-.94-.94-2.06-.94 2.06-2.06.94zm-11 1L8.5 8.5l.94-2.06 2.06-.94-2.06-.94L8.5 2.5l-.94 2.06-2.06.94zm10 10l.94 2.06.94-2.06 2.06-.94-2.06-.94-.94-2.06-.94 2.06-2.06.94z\"/><path d=\"M17.41 7.96l-1.37-1.37c-.4-.4-.92-.59-1.43-.59-.52 0-1.04.2-1.43.59L10.3 9.45l-7.72 7.72c-.78.78-.78 2.05 0 2.83L4 21.41c.39.39.9.59 1.41.59.51 0 1.02-.2 1.41-.59l7.78-7.78 2.81-2.81c.8-.78.8-2.07 0-2.86zM5.41 20L4 18.59l7.72-7.72 1.47 1.35L5.41 20z\"/>\n",
              "  </svg>\n",
              "      </button>\n",
              "      \n",
              "  <style>\n",
              "    .colab-df-container {\n",
              "      display:flex;\n",
              "      flex-wrap:wrap;\n",
              "      gap: 12px;\n",
              "    }\n",
              "\n",
              "    .colab-df-convert {\n",
              "      background-color: #E8F0FE;\n",
              "      border: none;\n",
              "      border-radius: 50%;\n",
              "      cursor: pointer;\n",
              "      display: none;\n",
              "      fill: #1967D2;\n",
              "      height: 32px;\n",
              "      padding: 0 0 0 0;\n",
              "      width: 32px;\n",
              "    }\n",
              "\n",
              "    .colab-df-convert:hover {\n",
              "      background-color: #E2EBFA;\n",
              "      box-shadow: 0px 1px 2px rgba(60, 64, 67, 0.3), 0px 1px 3px 1px rgba(60, 64, 67, 0.15);\n",
              "      fill: #174EA6;\n",
              "    }\n",
              "\n",
              "    [theme=dark] .colab-df-convert {\n",
              "      background-color: #3B4455;\n",
              "      fill: #D2E3FC;\n",
              "    }\n",
              "\n",
              "    [theme=dark] .colab-df-convert:hover {\n",
              "      background-color: #434B5C;\n",
              "      box-shadow: 0px 1px 3px 1px rgba(0, 0, 0, 0.15);\n",
              "      filter: drop-shadow(0px 1px 2px rgba(0, 0, 0, 0.3));\n",
              "      fill: #FFFFFF;\n",
              "    }\n",
              "  </style>\n",
              "\n",
              "      <script>\n",
              "        const buttonEl =\n",
              "          document.querySelector('#df-ea1e485c-03e8-422e-8481-d9aa2f21b256 button.colab-df-convert');\n",
              "        buttonEl.style.display =\n",
              "          google.colab.kernel.accessAllowed ? 'block' : 'none';\n",
              "\n",
              "        async function convertToInteractive(key) {\n",
              "          const element = document.querySelector('#df-ea1e485c-03e8-422e-8481-d9aa2f21b256');\n",
              "          const dataTable =\n",
              "            await google.colab.kernel.invokeFunction('convertToInteractive',\n",
              "                                                     [key], {});\n",
              "          if (!dataTable) return;\n",
              "\n",
              "          const docLinkHtml = 'Like what you see? Visit the ' +\n",
              "            '<a target=\"_blank\" href=https://colab.research.google.com/notebooks/data_table.ipynb>data table notebook</a>'\n",
              "            + ' to learn more about interactive tables.';\n",
              "          element.innerHTML = '';\n",
              "          dataTable['output_type'] = 'display_data';\n",
              "          await google.colab.output.renderOutput(dataTable, element);\n",
              "          const docLink = document.createElement('div');\n",
              "          docLink.innerHTML = docLinkHtml;\n",
              "          element.appendChild(docLink);\n",
              "        }\n",
              "      </script>\n",
              "    </div>\n",
              "  </div>\n",
              "  "
            ]
          },
          "metadata": {},
          "execution_count": 13
        }
      ]
    },
    {
      "cell_type": "code",
      "source": [
        "#boxplot numerical variables\n",
        "plt.figure(figsize=(18,9))\n",
        "df_num.boxplot()\n",
        "plt.title(\"Numerical variables in Ralali dataset\", fontsize=20)\n",
        "plt.show()"
      ],
      "metadata": {
        "colab": {
          "base_uri": "https://localhost:8080/",
          "height": 559
        },
        "id": "MwXTRV7xjCp9",
        "outputId": "23221e54-9766-4e20-eecc-1c2d521712c6"
      },
      "execution_count": null,
      "outputs": [
        {
          "output_type": "display_data",
          "data": {
            "text/plain": [
              "<Figure size 1296x648 with 1 Axes>"
            ],
            "image/png": "[encoded data removed]"
          },
          "metadata": {
            "needs_background": "light"
          }
        }
      ]
    },
    {
      "cell_type": "code",
      "source": [
        "#countplot frequency order_source \n",
        "sns.countplot(data = df, x = 'order_source')"
      ],
      "metadata": {
        "colab": {
          "base_uri": "https://localhost:8080/",
          "height": 297
        },
        "id": "eNPjqvOfEgG8",
        "outputId": "3844c7d5-6862-4fed-c5ce-3e35770d3e3b"
      },
      "execution_count": null,
      "outputs": [
        {
          "output_type": "execute_result",
          "data": {
            "text/plain": [
              "<matplotlib.axes._subplots.AxesSubplot at 0x7fc17e7b31c0>"
            ]
          },
          "metadata": {},
          "execution_count": 15
        },
        {
          "output_type": "display_data",
          "data": {
            "text/plain": [
              "<Figure size 432x288 with 1 Axes>"
            ],
            "image/png": "[encoded data removed]"
          },
          "metadata": {
            "needs_background": "light"
          }
        }
      ]
    },
    {
      "cell_type": "code",
      "source": [
        "#countplot frequency category product\n",
        "plt.figure(figsize=(10,5))\n",
        "chart = sns.countplot(\n",
        "    data=df,\n",
        "    x='cat_name',\n",
        "    palette='Set1'\n",
        ")\n",
        "\n",
        "plt.xticks(\n",
        "    rotation=45, \n",
        "    horizontalalignment='right',\n",
        "    fontweight='light',\n",
        "    fontsize='x-large'  \n",
        ")\n"
      ],
      "metadata": {
        "colab": {
          "base_uri": "https://localhost:8080/",
          "height": 516
        },
        "id": "SXdfG3buEwFq",
        "outputId": "0945cc70-3de5-4f3d-92ec-3869edf26979"
      },
      "execution_count": null,
      "outputs": [
        {
          "output_type": "execute_result",
          "data": {
            "text/plain": [
              "(array([ 0,  1,  2,  3,  4,  5,  6,  7,  8,  9, 10, 11]),\n",
              " <a list of 12 Text major ticklabel objects>)"
            ]
          },
          "metadata": {},
          "execution_count": 16
        },
        {
          "output_type": "display_data",
          "data": {
            "text/plain": [
              "<Figure size 720x360 with 1 Axes>"
            ],
            "image/png": "[encoded data removed]"
          },
          "metadata": {
            "needs_background": "light"
          }
        }
      ]
    },
    {
      "cell_type": "code",
      "source": [
        "#countplot frequency city\n",
        "plt.figure(figsize=(25,5))\n",
        "chart = sns.countplot(\n",
        "    data=df,\n",
        "    x='buyer_city_name',\n",
        "    palette='Set1'\n",
        ")\n",
        "\n",
        "plt.xticks(\n",
        "    rotation=90, \n",
        "    horizontalalignment='right',\n",
        "    fontweight='light',\n",
        "    fontsize='x-small'  \n",
        ")"
      ],
      "metadata": {
        "colab": {
          "base_uri": "https://localhost:8080/",
          "height": 695
        },
        "id": "dTaX-1wJFhoS",
        "outputId": "bc8c1633-49fd-4d23-e7a1-4c909f18d1d6"
      },
      "execution_count": null,
      "outputs": [
        {
          "output_type": "execute_result",
          "data": {
            "text/plain": [
              "(array([  0,   1,   2,   3,   4,   5,   6,   7,   8,   9,  10,  11,  12,\n",
              "         13,  14,  15,  16,  17,  18,  19,  20,  21,  22,  23,  24,  25,\n",
              "         26,  27,  28,  29,  30,  31,  32,  33,  34,  35,  36,  37,  38,\n",
              "         39,  40,  41,  42,  43,  44,  45,  46,  47,  48,  49,  50,  51,\n",
              "         52,  53,  54,  55,  56,  57,  58,  59,  60,  61,  62,  63,  64,\n",
              "         65,  66,  67,  68,  69,  70,  71,  72,  73,  74,  75,  76,  77,\n",
              "         78,  79,  80,  81,  82,  83,  84,  85,  86,  87,  88,  89,  90,\n",
              "         91,  92,  93,  94,  95,  96,  97,  98,  99, 100, 101, 102, 103,\n",
              "        104, 105, 106, 107, 108, 109, 110, 111, 112, 113, 114, 115, 116,\n",
              "        117, 118, 119, 120, 121, 122, 123, 124, 125, 126, 127, 128, 129,\n",
              "        130, 131, 132, 133, 134, 135, 136, 137, 138, 139, 140, 141, 142,\n",
              "        143, 144, 145, 146, 147, 148, 149, 150, 151, 152, 153, 154, 155,\n",
              "        156, 157, 158, 159, 160, 161, 162, 163, 164, 165, 166, 167, 168,\n",
              "        169, 170, 171, 172, 173, 174, 175, 176, 177, 178, 179, 180, 181,\n",
              "        182, 183, 184, 185, 186, 187, 188, 189, 190, 191, 192, 193, 194,\n",
              "        195, 196, 197, 198, 199, 200, 201, 202, 203, 204, 205, 206, 207,\n",
              "        208, 209, 210, 211, 212, 213, 214, 215, 216, 217, 218, 219]),\n",
              " <a list of 220 Text major ticklabel objects>)"
            ]
          },
          "metadata": {},
          "execution_count": 17
        },
        {
          "output_type": "display_data",
          "data": {
            "text/plain": [
              "<Figure size 1800x360 with 1 Axes>"
            ],
            "image/png": "[encoded data removed]"
          },
          "metadata": {
            "needs_background": "light"
          }
        }
      ]
    },
    {
      "cell_type": "markdown",
      "source": [
        "**Check Outlier**"
      ],
      "metadata": {
        "id": "V3Hzpbc2F_BU"
      }
    },
    {
      "cell_type": "code",
      "source": [
        "# Q1, Q3, dan IQR\n",
        "Q1 = df['gmv'].quantile(0.25)\n",
        "Q3 = df['gmv'].quantile(0.75)\n",
        "IQR = Q3 - Q1\n",
        "print('Q1: ', Q1)\n",
        "print('Q3: ', Q3)\n",
        "print('IQR: ', IQR)\n",
        "# Check ukuran sebelum data yang mengandung outliers dibuang\n",
        "print('Shape awal: ', df.shape)\n",
        "# Removing outliers\n",
        "df_no_outliers = df[~((df['gmv'] < (Q1 - 1.5*IQR)) | (df['gmv'] > (Q3 + 1.5*IQR)))]\n",
        "# Check ukuran  setelah data yang mengandung outliers dibuang\n",
        "print('Shape akhir:', df_no_outliers.shape)"
      ],
      "metadata": {
        "colab": {
          "base_uri": "https://localhost:8080/"
        },
        "id": "segprp6tG_0w",
        "outputId": "b2671e83-663b-404a-d6c2-3c068f283925"
      },
      "execution_count": null,
      "outputs": [
        {
          "output_type": "stream",
          "name": "stdout",
          "text": [
            "Q1:  560000.0\n",
            "Q3:  4488625.0\n",
            "IQR:  3928625.0\n",
            "Shape awal:  (53287, 27)\n",
            "Shape akhir: (43498, 27)\n"
          ]
        }
      ]
    },
    {
      "cell_type": "markdown",
      "source": [
        "## **Exploratory Data Analysis**"
      ],
      "metadata": {
        "id": "Mgy3fem9FwfH"
      }
    },
    {
      "cell_type": "code",
      "source": [
        "#Top Highest GMV by City \n",
        "print('The TOP 5 City with Highest GMV 2018-2020')\n",
        "total_gmv = df.groupby(by=['buyer_city_name'], as_index=False)['gmv'].sum()\n",
        "total_gmv.sort_values(by='gmv', ascending=False).head()"
      ],
      "metadata": {
        "colab": {
          "base_uri": "https://localhost:8080/",
          "height": 224
        },
        "id": "np7veKdTgASk",
        "outputId": "3cf4550f-0f15-48c6-c211-9ee82ad4e9e3"
      },
      "execution_count": null,
      "outputs": [
        {
          "output_type": "stream",
          "name": "stdout",
          "text": [
            "The TOP 5 City with Highest GMV 2018-2020\n"
          ]
        },
        {
          "output_type": "execute_result",
          "data": {
            "text/plain": [
              "    buyer_city_name           gmv\n",
              "77    Jakarta Barat  8.947453e+10\n",
              "78    Jakarta Pusat  7.788777e+10\n",
              "59     Deli Serdang  7.340092e+10\n",
              "79  Jakarta Selatan  5.828404e+10\n",
              "80    Jakarta Timur  4.432860e+10"
            ],
            "text/html": [
              "\n",
              "  <div id=\"df-abbd2f5f-abe3-492a-822a-996b5ec82c8c\">\n",
              "    <div class=\"colab-df-container\">\n",
              "      <div>\n",
              "<style scoped>\n",
              "    .dataframe tbody tr th:only-of-type {\n",
              "        vertical-align: middle;\n",
              "    }\n",
              "\n",
              "    .dataframe tbody tr th {\n",
              "        vertical-align: top;\n",
              "    }\n",
              "\n",
              "    .dataframe thead th {\n",
              "        text-align: right;\n",
              "    }\n",
              "</style>\n",
              "<table border=\"1\" class=\"dataframe\">\n",
              "  <thead>\n",
              "    <tr style=\"text-align: right;\">\n",
              "      <th></th>\n",
              "      <th>buyer_city_name</th>\n",
              "      <th>gmv</th>\n",
              "    </tr>\n",
              "  </thead>\n",
              "  <tbody>\n",
              "    <tr>\n",
              "      <th>77</th>\n",
              "      <td>Jakarta Barat</td>\n",
              "      <td>8.947453e+10</td>\n",
              "    </tr>\n",
              "    <tr>\n",
              "      <th>78</th>\n",
              "      <td>Jakarta Pusat</td>\n",
              "      <td>7.788777e+10</td>\n",
              "    </tr>\n",
              "    <tr>\n",
              "      <th>59</th>\n",
              "      <td>Deli Serdang</td>\n",
              "      <td>7.340092e+10</td>\n",
              "    </tr>\n",
              "    <tr>\n",
              "      <th>79</th>\n",
              "      <td>Jakarta Selatan</td>\n",
              "      <td>5.828404e+10</td>\n",
              "    </tr>\n",
              "    <tr>\n",
              "      <th>80</th>\n",
              "      <td>Jakarta Timur</td>\n",
              "      <td>4.432860e+10</td>\n",
              "    </tr>\n",
              "  </tbody>\n",
              "</table>\n",
              "</div>\n",
              "      <button class=\"colab-df-convert\" onclick=\"convertToInteractive('df-abbd2f5f-abe3-492a-822a-996b5ec82c8c')\"\n",
              "              title=\"Convert this dataframe to an interactive table.\"\n",
              "              style=\"display:none;\">\n",
              "        \n",
              "  <svg xmlns=\"http://www.w3.org/2000/svg\" height=\"24px\"viewBox=\"0 0 24 24\"\n",
              "       width=\"24px\">\n",
              "    <path d=\"M0 0h24v24H0V0z\" fill=\"none\"/>\n",
              "    <path d=\"M18.56 5.44l.94 2.06.94-2.06 2.06-.94-2.06-.94-.94-2.06-.94 2.06-2.06.94zm-11 1L8.5 8.5l.94-2.06 2.06-.94-2.06-.94L8.5 2.5l-.94 2.06-2.06.94zm10 10l.94 2.06.94-2.06 2.06-.94-2.06-.94-.94-2.06-.94 2.06-2.06.94z\"/><path d=\"M17.41 7.96l-1.37-1.37c-.4-.4-.92-.59-1.43-.59-.52 0-1.04.2-1.43.59L10.3 9.45l-7.72 7.72c-.78.78-.78 2.05 0 2.83L4 21.41c.39.39.9.59 1.41.59.51 0 1.02-.2 1.41-.59l7.78-7.78 2.81-2.81c.8-.78.8-2.07 0-2.86zM5.41 20L4 18.59l7.72-7.72 1.47 1.35L5.41 20z\"/>\n",
              "  </svg>\n",
              "      </button>\n",
              "      \n",
              "  <style>\n",
              "    .colab-df-container {\n",
              "      display:flex;\n",
              "      flex-wrap:wrap;\n",
              "      gap: 12px;\n",
              "    }\n",
              "\n",
              "    .colab-df-convert {\n",
              "      background-color: #E8F0FE;\n",
              "      border: none;\n",
              "      border-radius: 50%;\n",
              "      cursor: pointer;\n",
              "      display: none;\n",
              "      fill: #1967D2;\n",
              "      height: 32px;\n",
              "      padding: 0 0 0 0;\n",
              "      width: 32px;\n",
              "    }\n",
              "\n",
              "    .colab-df-convert:hover {\n",
              "      background-color: #E2EBFA;\n",
              "      box-shadow: 0px 1px 2px rgba(60, 64, 67, 0.3), 0px 1px 3px 1px rgba(60, 64, 67, 0.15);\n",
              "      fill: #174EA6;\n",
              "    }\n",
              "\n",
              "    [theme=dark] .colab-df-convert {\n",
              "      background-color: #3B4455;\n",
              "      fill: #D2E3FC;\n",
              "    }\n",
              "\n",
              "    [theme=dark] .colab-df-convert:hover {\n",
              "      background-color: #434B5C;\n",
              "      box-shadow: 0px 1px 3px 1px rgba(0, 0, 0, 0.15);\n",
              "      filter: drop-shadow(0px 1px 2px rgba(0, 0, 0, 0.3));\n",
              "      fill: #FFFFFF;\n",
              "    }\n",
              "  </style>\n",
              "\n",
              "      <script>\n",
              "        const buttonEl =\n",
              "          document.querySelector('#df-abbd2f5f-abe3-492a-822a-996b5ec82c8c button.colab-df-convert');\n",
              "        buttonEl.style.display =\n",
              "          google.colab.kernel.accessAllowed ? 'block' : 'none';\n",
              "\n",
              "        async function convertToInteractive(key) {\n",
              "          const element = document.querySelector('#df-abbd2f5f-abe3-492a-822a-996b5ec82c8c');\n",
              "          const dataTable =\n",
              "            await google.colab.kernel.invokeFunction('convertToInteractive',\n",
              "                                                     [key], {});\n",
              "          if (!dataTable) return;\n",
              "\n",
              "          const docLinkHtml = 'Like what you see? Visit the ' +\n",
              "            '<a target=\"_blank\" href=https://colab.research.google.com/notebooks/data_table.ipynb>data table notebook</a>'\n",
              "            + ' to learn more about interactive tables.';\n",
              "          element.innerHTML = '';\n",
              "          dataTable['output_type'] = 'display_data';\n",
              "          await google.colab.output.renderOutput(dataTable, element);\n",
              "          const docLink = document.createElement('div');\n",
              "          docLink.innerHTML = docLinkHtml;\n",
              "          element.appendChild(docLink);\n",
              "        }\n",
              "      </script>\n",
              "    </div>\n",
              "  </div>\n",
              "  "
            ]
          },
          "metadata": {},
          "execution_count": 19
        }
      ]
    },
    {
      "cell_type": "code",
      "source": [
        "#Annual GMV by City\n",
        "by_city = pd.pivot_table(df, values='gmv', index=['buyer_city_name'], columns=['Year'],\n",
        "                    aggfunc=np.sum)\n",
        "by_city"
      ],
      "metadata": {
        "colab": {
          "base_uri": "https://localhost:8080/",
          "height": 455
        },
        "id": "Zs6zkfcnXERZ",
        "outputId": "0c6d8567-39b5-422c-c1a2-3bcfc4417812"
      },
      "execution_count": null,
      "outputs": [
        {
          "output_type": "execute_result",
          "data": {
            "text/plain": [
              "Year                   2018         2019          2020\n",
              "buyer_city_name                                       \n",
              "Aceh Barat              NaN   13585000.0           NaN\n",
              "Aceh Besar         935000.0          NaN           NaN\n",
              "Aceh Tenggara           NaN   16610000.0           NaN\n",
              "Aceh Timur         682000.0          NaN           NaN\n",
              "Agam                    NaN   18535000.0  1.126509e+08\n",
              "...                     ...          ...           ...\n",
              "Tulungagung       7813100.0    3643200.0           NaN\n",
              "Way Kanan               NaN   10241000.0           NaN\n",
              "Wonogiri          2721000.0          NaN           NaN\n",
              "Wonosobo          1232000.0          NaN  4.439545e+09\n",
              "Yogyakarta       86946694.0  264100989.0  9.125891e+08\n",
              "\n",
              "[220 rows x 3 columns]"
            ],
            "text/html": [
              "\n",
              "  <div id=\"df-9bf34fa7-90e0-4156-972f-118d5b1ecb02\">\n",
              "    <div class=\"colab-df-container\">\n",
              "      <div>\n",
              "<style scoped>\n",
              "    .dataframe tbody tr th:only-of-type {\n",
              "        vertical-align: middle;\n",
              "    }\n",
              "\n",
              "    .dataframe tbody tr th {\n",
              "        vertical-align: top;\n",
              "    }\n",
              "\n",
              "    .dataframe thead th {\n",
              "        text-align: right;\n",
              "    }\n",
              "</style>\n",
              "<table border=\"1\" class=\"dataframe\">\n",
              "  <thead>\n",
              "    <tr style=\"text-align: right;\">\n",
              "      <th>Year</th>\n",
              "      <th>2018</th>\n",
              "      <th>2019</th>\n",
              "      <th>2020</th>\n",
              "    </tr>\n",
              "    <tr>\n",
              "      <th>buyer_city_name</th>\n",
              "      <th></th>\n",
              "      <th></th>\n",
              "      <th></th>\n",
              "    </tr>\n",
              "  </thead>\n",
              "  <tbody>\n",
              "    <tr>\n",
              "      <th>Aceh Barat</th>\n",
              "      <td>NaN</td>\n",
              "      <td>13585000.0</td>\n",
              "      <td>NaN</td>\n",
              "    </tr>\n",
              "    <tr>\n",
              "      <th>Aceh Besar</th>\n",
              "      <td>935000.0</td>\n",
              "      <td>NaN</td>\n",
              "      <td>NaN</td>\n",
              "    </tr>\n",
              "    <tr>\n",
              "      <th>Aceh Tenggara</th>\n",
              "      <td>NaN</td>\n",
              "      <td>16610000.0</td>\n",
              "      <td>NaN</td>\n",
              "    </tr>\n",
              "    <tr>\n",
              "      <th>Aceh Timur</th>\n",
              "      <td>682000.0</td>\n",
              "      <td>NaN</td>\n",
              "      <td>NaN</td>\n",
              "    </tr>\n",
              "    <tr>\n",
              "      <th>Agam</th>\n",
              "      <td>NaN</td>\n",
              "      <td>18535000.0</td>\n",
              "      <td>1.126509e+08</td>\n",
              "    </tr>\n",
              "    <tr>\n",
              "      <th>...</th>\n",
              "      <td>...</td>\n",
              "      <td>...</td>\n",
              "      <td>...</td>\n",
              "    </tr>\n",
              "    <tr>\n",
              "      <th>Tulungagung</th>\n",
              "      <td>7813100.0</td>\n",
              "      <td>3643200.0</td>\n",
              "      <td>NaN</td>\n",
              "    </tr>\n",
              "    <tr>\n",
              "      <th>Way Kanan</th>\n",
              "      <td>NaN</td>\n",
              "      <td>10241000.0</td>\n",
              "      <td>NaN</td>\n",
              "    </tr>\n",
              "    <tr>\n",
              "      <th>Wonogiri</th>\n",
              "      <td>2721000.0</td>\n",
              "      <td>NaN</td>\n",
              "      <td>NaN</td>\n",
              "    </tr>\n",
              "    <tr>\n",
              "      <th>Wonosobo</th>\n",
              "      <td>1232000.0</td>\n",
              "      <td>NaN</td>\n",
              "      <td>4.439545e+09</td>\n",
              "    </tr>\n",
              "    <tr>\n",
              "      <th>Yogyakarta</th>\n",
              "      <td>86946694.0</td>\n",
              "      <td>264100989.0</td>\n",
              "      <td>9.125891e+08</td>\n",
              "    </tr>\n",
              "  </tbody>\n",
              "</table>\n",
              "<p>220 rows × 3 columns</p>\n",
              "</div>\n",
              "      <button class=\"colab-df-convert\" onclick=\"convertToInteractive('df-9bf34fa7-90e0-4156-972f-118d5b1ecb02')\"\n",
              "              title=\"Convert this dataframe to an interactive table.\"\n",
              "              style=\"display:none;\">\n",
              "        \n",
              "  <svg xmlns=\"http://www.w3.org/2000/svg\" height=\"24px\"viewBox=\"0 0 24 24\"\n",
              "       width=\"24px\">\n",
              "    <path d=\"M0 0h24v24H0V0z\" fill=\"none\"/>\n",
              "    <path d=\"M18.56 5.44l.94 2.06.94-2.06 2.06-.94-2.06-.94-.94-2.06-.94 2.06-2.06.94zm-11 1L8.5 8.5l.94-2.06 2.06-.94-2.06-.94L8.5 2.5l-.94 2.06-2.06.94zm10 10l.94 2.06.94-2.06 2.06-.94-2.06-.94-.94-2.06-.94 2.06-2.06.94z\"/><path d=\"M17.41 7.96l-1.37-1.37c-.4-.4-.92-.59-1.43-.59-.52 0-1.04.2-1.43.59L10.3 9.45l-7.72 7.72c-.78.78-.78 2.05 0 2.83L4 21.41c.39.39.9.59 1.41.59.51 0 1.02-.2 1.41-.59l7.78-7.78 2.81-2.81c.8-.78.8-2.07 0-2.86zM5.41 20L4 18.59l7.72-7.72 1.47 1.35L5.41 20z\"/>\n",
              "  </svg>\n",
              "      </button>\n",
              "      \n",
              "  <style>\n",
              "    .colab-df-container {\n",
              "      display:flex;\n",
              "      flex-wrap:wrap;\n",
              "      gap: 12px;\n",
              "    }\n",
              "\n",
              "    .colab-df-convert {\n",
              "      background-color: #E8F0FE;\n",
              "      border: none;\n",
              "      border-radius: 50%;\n",
              "      cursor: pointer;\n",
              "      display: none;\n",
              "      fill: #1967D2;\n",
              "      height: 32px;\n",
              "      padding: 0 0 0 0;\n",
              "      width: 32px;\n",
              "    }\n",
              "\n",
              "    .colab-df-convert:hover {\n",
              "      background-color: #E2EBFA;\n",
              "      box-shadow: 0px 1px 2px rgba(60, 64, 67, 0.3), 0px 1px 3px 1px rgba(60, 64, 67, 0.15);\n",
              "      fill: #174EA6;\n",
              "    }\n",
              "\n",
              "    [theme=dark] .colab-df-convert {\n",
              "      background-color: #3B4455;\n",
              "      fill: #D2E3FC;\n",
              "    }\n",
              "\n",
              "    [theme=dark] .colab-df-convert:hover {\n",
              "      background-color: #434B5C;\n",
              "      box-shadow: 0px 1px 3px 1px rgba(0, 0, 0, 0.15);\n",
              "      filter: drop-shadow(0px 1px 2px rgba(0, 0, 0, 0.3));\n",
              "      fill: #FFFFFF;\n",
              "    }\n",
              "  </style>\n",
              "\n",
              "      <script>\n",
              "        const buttonEl =\n",
              "          document.querySelector('#df-9bf34fa7-90e0-4156-972f-118d5b1ecb02 button.colab-df-convert');\n",
              "        buttonEl.style.display =\n",
              "          google.colab.kernel.accessAllowed ? 'block' : 'none';\n",
              "\n",
              "        async function convertToInteractive(key) {\n",
              "          const element = document.querySelector('#df-9bf34fa7-90e0-4156-972f-118d5b1ecb02');\n",
              "          const dataTable =\n",
              "            await google.colab.kernel.invokeFunction('convertToInteractive',\n",
              "                                                     [key], {});\n",
              "          if (!dataTable) return;\n",
              "\n",
              "          const docLinkHtml = 'Like what you see? Visit the ' +\n",
              "            '<a target=\"_blank\" href=https://colab.research.google.com/notebooks/data_table.ipynb>data table notebook</a>'\n",
              "            + ' to learn more about interactive tables.';\n",
              "          element.innerHTML = '';\n",
              "          dataTable['output_type'] = 'display_data';\n",
              "          await google.colab.output.renderOutput(dataTable, element);\n",
              "          const docLink = document.createElement('div');\n",
              "          docLink.innerHTML = docLinkHtml;\n",
              "          element.appendChild(docLink);\n",
              "        }\n",
              "      </script>\n",
              "    </div>\n",
              "  </div>\n",
              "  "
            ]
          },
          "metadata": {},
          "execution_count": 20
        }
      ]
    },
    {
      "cell_type": "code",
      "source": [
        "#plot Annual GMV by City\n",
        "by_city.plot(kind='bar', figsize=(50,7))\n",
        "plt.xticks(rotation = 90)"
      ],
      "metadata": {
        "colab": {
          "base_uri": "https://localhost:8080/",
          "height": 594
        },
        "id": "O_EYacuI4cTB",
        "outputId": "af43a843-4343-4789-a3da-17cbfa031836"
      },
      "execution_count": null,
      "outputs": [
        {
          "output_type": "execute_result",
          "data": {
            "text/plain": [
              "(array([  0,   1,   2,   3,   4,   5,   6,   7,   8,   9,  10,  11,  12,\n",
              "         13,  14,  15,  16,  17,  18,  19,  20,  21,  22,  23,  24,  25,\n",
              "         26,  27,  28,  29,  30,  31,  32,  33,  34,  35,  36,  37,  38,\n",
              "         39,  40,  41,  42,  43,  44,  45,  46,  47,  48,  49,  50,  51,\n",
              "         52,  53,  54,  55,  56,  57,  58,  59,  60,  61,  62,  63,  64,\n",
              "         65,  66,  67,  68,  69,  70,  71,  72,  73,  74,  75,  76,  77,\n",
              "         78,  79,  80,  81,  82,  83,  84,  85,  86,  87,  88,  89,  90,\n",
              "         91,  92,  93,  94,  95,  96,  97,  98,  99, 100, 101, 102, 103,\n",
              "        104, 105, 106, 107, 108, 109, 110, 111, 112, 113, 114, 115, 116,\n",
              "        117, 118, 119, 120, 121, 122, 123, 124, 125, 126, 127, 128, 129,\n",
              "        130, 131, 132, 133, 134, 135, 136, 137, 138, 139, 140, 141, 142,\n",
              "        143, 144, 145, 146, 147, 148, 149, 150, 151, 152, 153, 154, 155,\n",
              "        156, 157, 158, 159, 160, 161, 162, 163, 164, 165, 166, 167, 168,\n",
              "        169, 170, 171, 172, 173, 174, 175, 176, 177, 178, 179, 180, 181,\n",
              "        182, 183, 184, 185, 186, 187, 188, 189, 190, 191, 192, 193, 194,\n",
              "        195, 196, 197, 198, 199, 200, 201, 202, 203, 204, 205, 206, 207,\n",
              "        208, 209, 210, 211, 212, 213, 214, 215, 216, 217, 218, 219]),\n",
              " <a list of 220 Text major ticklabel objects>)"
            ]
          },
          "metadata": {},
          "execution_count": 21
        },
        {
          "output_type": "display_data",
          "data": {
            "text/plain": [
              "<Figure size 3600x504 with 1 Axes>"
            ],
            "image/png": "[encoded data removed]"
          },
          "metadata": {
            "needs_background": "light"
          }
        }
      ]
    },
    {
      "cell_type": "markdown",
      "source": [
        "**Insight**\n",
        "\n",
        "Total GMV yang diterima Ralali mayoritas dihasilkan atau berasal dari Kota Besar. Wilayah di Jakarta menduduki peringkat teratas dalam akumulasi total GMV dari tahun 2018-2020\n",
        "\n",
        "**Recommendations**\n",
        "\n",
        "Perusahaan dapat memberikan promo berdasarkan segmentasi kota customers. Misalnya, pemberian promo ongkir atau promo harga untuk wilayah kota yang cukup jauh."
      ],
      "metadata": {
        "id": "50jp2E5E3lh_"
      }
    },
    {
      "cell_type": "code",
      "source": [
        "#Top Highest GMV by Category Product\n",
        "print('The TOP 5 Category Product with Highest GMV 2018-2020')\n",
        "total_gmv = df.groupby(by=['cat_name'], as_index=False)['gmv'].sum()\n",
        "total_gmv.sort_values(by='gmv', ascending=False).head()"
      ],
      "metadata": {
        "colab": {
          "base_uri": "https://localhost:8080/",
          "height": 224
        },
        "id": "TpHNe0X-lauM",
        "outputId": "7f669e89-dfc0-469e-ce8d-f202824a11ec"
      },
      "execution_count": null,
      "outputs": [
        {
          "output_type": "stream",
          "name": "stdout",
          "text": [
            "The TOP 5 Category Product with Highest GMV 2018-2020\n"
          ]
        },
        {
          "output_type": "execute_result",
          "data": {
            "text/plain": [
              "                       cat_name           gmv\n",
              "1   Automotive & Transportation  2.344586e+11\n",
              "4      Computer & Communication  2.291960e+11\n",
              "0            Agriculture & Food  4.526114e+10\n",
              "9  Machinery & Industrial Parts  2.523135e+10\n",
              "3            Building Materials  1.703003e+10"
            ],
            "text/html": [
              "\n",
              "  <div id=\"df-14b12c43-616c-4f18-9129-8de9cc64c42b\">\n",
              "    <div class=\"colab-df-container\">\n",
              "      <div>\n",
              "<style scoped>\n",
              "    .dataframe tbody tr th:only-of-type {\n",
              "        vertical-align: middle;\n",
              "    }\n",
              "\n",
              "    .dataframe tbody tr th {\n",
              "        vertical-align: top;\n",
              "    }\n",
              "\n",
              "    .dataframe thead th {\n",
              "        text-align: right;\n",
              "    }\n",
              "</style>\n",
              "<table border=\"1\" class=\"dataframe\">\n",
              "  <thead>\n",
              "    <tr style=\"text-align: right;\">\n",
              "      <th></th>\n",
              "      <th>cat_name</th>\n",
              "      <th>gmv</th>\n",
              "    </tr>\n",
              "  </thead>\n",
              "  <tbody>\n",
              "    <tr>\n",
              "      <th>1</th>\n",
              "      <td>Automotive &amp; Transportation</td>\n",
              "      <td>2.344586e+11</td>\n",
              "    </tr>\n",
              "    <tr>\n",
              "      <th>4</th>\n",
              "      <td>Computer &amp; Communication</td>\n",
              "      <td>2.291960e+11</td>\n",
              "    </tr>\n",
              "    <tr>\n",
              "      <th>0</th>\n",
              "      <td>Agriculture &amp; Food</td>\n",
              "      <td>4.526114e+10</td>\n",
              "    </tr>\n",
              "    <tr>\n",
              "      <th>9</th>\n",
              "      <td>Machinery &amp; Industrial Parts</td>\n",
              "      <td>2.523135e+10</td>\n",
              "    </tr>\n",
              "    <tr>\n",
              "      <th>3</th>\n",
              "      <td>Building Materials</td>\n",
              "      <td>1.703003e+10</td>\n",
              "    </tr>\n",
              "  </tbody>\n",
              "</table>\n",
              "</div>\n",
              "      <button class=\"colab-df-convert\" onclick=\"convertToInteractive('df-14b12c43-616c-4f18-9129-8de9cc64c42b')\"\n",
              "              title=\"Convert this dataframe to an interactive table.\"\n",
              "              style=\"display:none;\">\n",
              "        \n",
              "  <svg xmlns=\"http://www.w3.org/2000/svg\" height=\"24px\"viewBox=\"0 0 24 24\"\n",
              "       width=\"24px\">\n",
              "    <path d=\"M0 0h24v24H0V0z\" fill=\"none\"/>\n",
              "    <path d=\"M18.56 5.44l.94 2.06.94-2.06 2.06-.94-2.06-.94-.94-2.06-.94 2.06-2.06.94zm-11 1L8.5 8.5l.94-2.06 2.06-.94-2.06-.94L8.5 2.5l-.94 2.06-2.06.94zm10 10l.94 2.06.94-2.06 2.06-.94-2.06-.94-.94-2.06-.94 2.06-2.06.94z\"/><path d=\"M17.41 7.96l-1.37-1.37c-.4-.4-.92-.59-1.43-.59-.52 0-1.04.2-1.43.59L10.3 9.45l-7.72 7.72c-.78.78-.78 2.05 0 2.83L4 21.41c.39.39.9.59 1.41.59.51 0 1.02-.2 1.41-.59l7.78-7.78 2.81-2.81c.8-.78.8-2.07 0-2.86zM5.41 20L4 18.59l7.72-7.72 1.47 1.35L5.41 20z\"/>\n",
              "  </svg>\n",
              "      </button>\n",
              "      \n",
              "  <style>\n",
              "    .colab-df-container {\n",
              "      display:flex;\n",
              "      flex-wrap:wrap;\n",
              "      gap: 12px;\n",
              "    }\n",
              "\n",
              "    .colab-df-convert {\n",
              "      background-color: #E8F0FE;\n",
              "      border: none;\n",
              "      border-radius: 50%;\n",
              "      cursor: pointer;\n",
              "      display: none;\n",
              "      fill: #1967D2;\n",
              "      height: 32px;\n",
              "      padding: 0 0 0 0;\n",
              "      width: 32px;\n",
              "    }\n",
              "\n",
              "    .colab-df-convert:hover {\n",
              "      background-color: #E2EBFA;\n",
              "      box-shadow: 0px 1px 2px rgba(60, 64, 67, 0.3), 0px 1px 3px 1px rgba(60, 64, 67, 0.15);\n",
              "      fill: #174EA6;\n",
              "    }\n",
              "\n",
              "    [theme=dark] .colab-df-convert {\n",
              "      background-color: #3B4455;\n",
              "      fill: #D2E3FC;\n",
              "    }\n",
              "\n",
              "    [theme=dark] .colab-df-convert:hover {\n",
              "      background-color: #434B5C;\n",
              "      box-shadow: 0px 1px 3px 1px rgba(0, 0, 0, 0.15);\n",
              "      filter: drop-shadow(0px 1px 2px rgba(0, 0, 0, 0.3));\n",
              "      fill: #FFFFFF;\n",
              "    }\n",
              "  </style>\n",
              "\n",
              "      <script>\n",
              "        const buttonEl =\n",
              "          document.querySelector('#df-14b12c43-616c-4f18-9129-8de9cc64c42b button.colab-df-convert');\n",
              "        buttonEl.style.display =\n",
              "          google.colab.kernel.accessAllowed ? 'block' : 'none';\n",
              "\n",
              "        async function convertToInteractive(key) {\n",
              "          const element = document.querySelector('#df-14b12c43-616c-4f18-9129-8de9cc64c42b');\n",
              "          const dataTable =\n",
              "            await google.colab.kernel.invokeFunction('convertToInteractive',\n",
              "                                                     [key], {});\n",
              "          if (!dataTable) return;\n",
              "\n",
              "          const docLinkHtml = 'Like what you see? Visit the ' +\n",
              "            '<a target=\"_blank\" href=https://colab.research.google.com/notebooks/data_table.ipynb>data table notebook</a>'\n",
              "            + ' to learn more about interactive tables.';\n",
              "          element.innerHTML = '';\n",
              "          dataTable['output_type'] = 'display_data';\n",
              "          await google.colab.output.renderOutput(dataTable, element);\n",
              "          const docLink = document.createElement('div');\n",
              "          docLink.innerHTML = docLinkHtml;\n",
              "          element.appendChild(docLink);\n",
              "        }\n",
              "      </script>\n",
              "    </div>\n",
              "  </div>\n",
              "  "
            ]
          },
          "metadata": {},
          "execution_count": 22
        }
      ]
    },
    {
      "cell_type": "code",
      "source": [
        "#Annual GMV by Category Product\n",
        "by_cat = pd.pivot_table(df, values='gmv', index=['cat_name'], columns=['Year'],\n",
        "                    aggfunc=np.sum)\n",
        "by_cat"
      ],
      "metadata": {
        "colab": {
          "base_uri": "https://localhost:8080/",
          "height": 457
        },
        "id": "pkyD0-BkQ9DE",
        "outputId": "bf9a52d9-d526-4be6-911e-66a4c17a997f"
      },
      "execution_count": null,
      "outputs": [
        {
          "output_type": "execute_result",
          "data": {
            "text/plain": [
              "Year                                  2018          2019          2020\n",
              "cat_name                                                              \n",
              "Agriculture & Food            2.828971e+09  1.640189e+10  2.603028e+10\n",
              "Automotive & Transportation   3.939726e+09  1.365179e+11  9.400095e+10\n",
              "Beauty, Sport & Fashion       5.045005e+09  1.270505e+08  6.328157e+08\n",
              "Building Materials            2.724141e+09  1.905694e+09  1.240020e+10\n",
              "Computer & Communication      1.065725e+10  1.661876e+10  2.019200e+11\n",
              "Electronics                   1.386191e+09  4.780912e+08  1.195905e+10\n",
              "Furnitures & Decorations      8.340107e+09  5.227300e+06  5.772073e+08\n",
              "Health & Medical              2.334130e+09  2.709807e+07  8.653879e+08\n",
              "Horeca                        6.446710e+07  7.557860e+07  4.592000e+05\n",
              "Machinery & Industrial Parts  4.413981e+08  2.388197e+10  9.079836e+08\n",
              "Office & Store Supplies       3.898838e+08  6.101588e+08  7.502685e+08\n",
              "Services                      1.140340e+09  6.429200e+07  1.328424e+09"
            ],
            "text/html": [
              "\n",
              "  <div id=\"df-62019c39-f0ec-4e28-9d08-8f4445b76cf9\">\n",
              "    <div class=\"colab-df-container\">\n",
              "      <div>\n",
              "<style scoped>\n",
              "    .dataframe tbody tr th:only-of-type {\n",
              "        vertical-align: middle;\n",
              "    }\n",
              "\n",
              "    .dataframe tbody tr th {\n",
              "        vertical-align: top;\n",
              "    }\n",
              "\n",
              "    .dataframe thead th {\n",
              "        text-align: right;\n",
              "    }\n",
              "</style>\n",
              "<table border=\"1\" class=\"dataframe\">\n",
              "  <thead>\n",
              "    <tr style=\"text-align: right;\">\n",
              "      <th>Year</th>\n",
              "      <th>2018</th>\n",
              "      <th>2019</th>\n",
              "      <th>2020</th>\n",
              "    </tr>\n",
              "    <tr>\n",
              "      <th>cat_name</th>\n",
              "      <th></th>\n",
              "      <th></th>\n",
              "      <th></th>\n",
              "    </tr>\n",
              "  </thead>\n",
              "  <tbody>\n",
              "    <tr>\n",
              "      <th>Agriculture &amp; Food</th>\n",
              "      <td>2.828971e+09</td>\n",
              "      <td>1.640189e+10</td>\n",
              "      <td>2.603028e+10</td>\n",
              "    </tr>\n",
              "    <tr>\n",
              "      <th>Automotive &amp; Transportation</th>\n",
              "      <td>3.939726e+09</td>\n",
              "      <td>1.365179e+11</td>\n",
              "      <td>9.400095e+10</td>\n",
              "    </tr>\n",
              "    <tr>\n",
              "      <th>Beauty, Sport &amp; Fashion</th>\n",
              "      <td>5.045005e+09</td>\n",
              "      <td>1.270505e+08</td>\n",
              "      <td>6.328157e+08</td>\n",
              "    </tr>\n",
              "    <tr>\n",
              "      <th>Building Materials</th>\n",
              "      <td>2.724141e+09</td>\n",
              "      <td>1.905694e+09</td>\n",
              "      <td>1.240020e+10</td>\n",
              "    </tr>\n",
              "    <tr>\n",
              "      <th>Computer &amp; Communication</th>\n",
              "      <td>1.065725e+10</td>\n",
              "      <td>1.661876e+10</td>\n",
              "      <td>2.019200e+11</td>\n",
              "    </tr>\n",
              "    <tr>\n",
              "      <th>Electronics</th>\n",
              "      <td>1.386191e+09</td>\n",
              "      <td>4.780912e+08</td>\n",
              "      <td>1.195905e+10</td>\n",
              "    </tr>\n",
              "    <tr>\n",
              "      <th>Furnitures &amp; Decorations</th>\n",
              "      <td>8.340107e+09</td>\n",
              "      <td>5.227300e+06</td>\n",
              "      <td>5.772073e+08</td>\n",
              "    </tr>\n",
              "    <tr>\n",
              "      <th>Health &amp; Medical</th>\n",
              "      <td>2.334130e+09</td>\n",
              "      <td>2.709807e+07</td>\n",
              "      <td>8.653879e+08</td>\n",
              "    </tr>\n",
              "    <tr>\n",
              "      <th>Horeca</th>\n",
              "      <td>6.446710e+07</td>\n",
              "      <td>7.557860e+07</td>\n",
              "      <td>4.592000e+05</td>\n",
              "    </tr>\n",
              "    <tr>\n",
              "      <th>Machinery &amp; Industrial Parts</th>\n",
              "      <td>4.413981e+08</td>\n",
              "      <td>2.388197e+10</td>\n",
              "      <td>9.079836e+08</td>\n",
              "    </tr>\n",
              "    <tr>\n",
              "      <th>Office &amp; Store Supplies</th>\n",
              "      <td>3.898838e+08</td>\n",
              "      <td>6.101588e+08</td>\n",
              "      <td>7.502685e+08</td>\n",
              "    </tr>\n",
              "    <tr>\n",
              "      <th>Services</th>\n",
              "      <td>1.140340e+09</td>\n",
              "      <td>6.429200e+07</td>\n",
              "      <td>1.328424e+09</td>\n",
              "    </tr>\n",
              "  </tbody>\n",
              "</table>\n",
              "</div>\n",
              "      <button class=\"colab-df-convert\" onclick=\"convertToInteractive('df-62019c39-f0ec-4e28-9d08-8f4445b76cf9')\"\n",
              "              title=\"Convert this dataframe to an interactive table.\"\n",
              "              style=\"display:none;\">\n",
              "        \n",
              "  <svg xmlns=\"http://www.w3.org/2000/svg\" height=\"24px\"viewBox=\"0 0 24 24\"\n",
              "       width=\"24px\">\n",
              "    <path d=\"M0 0h24v24H0V0z\" fill=\"none\"/>\n",
              "    <path d=\"M18.56 5.44l.94 2.06.94-2.06 2.06-.94-2.06-.94-.94-2.06-.94 2.06-2.06.94zm-11 1L8.5 8.5l.94-2.06 2.06-.94-2.06-.94L8.5 2.5l-.94 2.06-2.06.94zm10 10l.94 2.06.94-2.06 2.06-.94-2.06-.94-.94-2.06-.94 2.06-2.06.94z\"/><path d=\"M17.41 7.96l-1.37-1.37c-.4-.4-.92-.59-1.43-.59-.52 0-1.04.2-1.43.59L10.3 9.45l-7.72 7.72c-.78.78-.78 2.05 0 2.83L4 21.41c.39.39.9.59 1.41.59.51 0 1.02-.2 1.41-.59l7.78-7.78 2.81-2.81c.8-.78.8-2.07 0-2.86zM5.41 20L4 18.59l7.72-7.72 1.47 1.35L5.41 20z\"/>\n",
              "  </svg>\n",
              "      </button>\n",
              "      \n",
              "  <style>\n",
              "    .colab-df-container {\n",
              "      display:flex;\n",
              "      flex-wrap:wrap;\n",
              "      gap: 12px;\n",
              "    }\n",
              "\n",
              "    .colab-df-convert {\n",
              "      background-color: #E8F0FE;\n",
              "      border: none;\n",
              "      border-radius: 50%;\n",
              "      cursor: pointer;\n",
              "      display: none;\n",
              "      fill: #1967D2;\n",
              "      height: 32px;\n",
              "      padding: 0 0 0 0;\n",
              "      width: 32px;\n",
              "    }\n",
              "\n",
              "    .colab-df-convert:hover {\n",
              "      background-color: #E2EBFA;\n",
              "      box-shadow: 0px 1px 2px rgba(60, 64, 67, 0.3), 0px 1px 3px 1px rgba(60, 64, 67, 0.15);\n",
              "      fill: #174EA6;\n",
              "    }\n",
              "\n",
              "    [theme=dark] .colab-df-convert {\n",
              "      background-color: #3B4455;\n",
              "      fill: #D2E3FC;\n",
              "    }\n",
              "\n",
              "    [theme=dark] .colab-df-convert:hover {\n",
              "      background-color: #434B5C;\n",
              "      box-shadow: 0px 1px 3px 1px rgba(0, 0, 0, 0.15);\n",
              "      filter: drop-shadow(0px 1px 2px rgba(0, 0, 0, 0.3));\n",
              "      fill: #FFFFFF;\n",
              "    }\n",
              "  </style>\n",
              "\n",
              "      <script>\n",
              "        const buttonEl =\n",
              "          document.querySelector('#df-62019c39-f0ec-4e28-9d08-8f4445b76cf9 button.colab-df-convert');\n",
              "        buttonEl.style.display =\n",
              "          google.colab.kernel.accessAllowed ? 'block' : 'none';\n",
              "\n",
              "        async function convertToInteractive(key) {\n",
              "          const element = document.querySelector('#df-62019c39-f0ec-4e28-9d08-8f4445b76cf9');\n",
              "          const dataTable =\n",
              "            await google.colab.kernel.invokeFunction('convertToInteractive',\n",
              "                                                     [key], {});\n",
              "          if (!dataTable) return;\n",
              "\n",
              "          const docLinkHtml = 'Like what you see? Visit the ' +\n",
              "            '<a target=\"_blank\" href=https://colab.research.google.com/notebooks/data_table.ipynb>data table notebook</a>'\n",
              "            + ' to learn more about interactive tables.';\n",
              "          element.innerHTML = '';\n",
              "          dataTable['output_type'] = 'display_data';\n",
              "          await google.colab.output.renderOutput(dataTable, element);\n",
              "          const docLink = document.createElement('div');\n",
              "          docLink.innerHTML = docLinkHtml;\n",
              "          element.appendChild(docLink);\n",
              "        }\n",
              "      </script>\n",
              "    </div>\n",
              "  </div>\n",
              "  "
            ]
          },
          "metadata": {},
          "execution_count": 23
        }
      ]
    },
    {
      "cell_type": "code",
      "source": [
        "#Plot Annual GMV by Category Product\n",
        "by_cat.plot(kind='bar', figsize=(20,7))\n",
        "plt.xticks(rotation = 45)"
      ],
      "metadata": {
        "colab": {
          "base_uri": "https://localhost:8080/",
          "height": 587
        },
        "id": "XFej9nWnScdD",
        "outputId": "c7b761f2-ae98-4f8a-fb21-1b938ef57afd"
      },
      "execution_count": null,
      "outputs": [
        {
          "output_type": "execute_result",
          "data": {
            "text/plain": [
              "(array([ 0,  1,  2,  3,  4,  5,  6,  7,  8,  9, 10, 11]),\n",
              " <a list of 12 Text major ticklabel objects>)"
            ]
          },
          "metadata": {},
          "execution_count": 24
        },
        {
          "output_type": "display_data",
          "data": {
            "text/plain": [
              "<Figure size 1440x504 with 1 Axes>"
            ],
            "image/png": "[encoded data removed]"
          },
          "metadata": {
            "needs_background": "light"
          }
        }
      ]
    },
    {
      "cell_type": "markdown",
      "source": [
        "**Insight**\n",
        "\n",
        "Kategori Product Automotive & Transportation menjadi product dengan akumulasi GMV tertinggi dari Q1 tahun 2018-2020.\n",
        "\n",
        "**Recommendations**\n",
        "\n",
        "Perusahaan dapat memberikan promo berdasarkan segmentasi kategori produk. Misalnya, perusahaan dapat memberi promo, diskon, atau menampilkan di menu utama untuk kategori yang masih sedikit peminatnya. Perusahaan juga bisa membuat pintasan atau product bundling untuk kategori product yang sering dibeli customers sehingga customers semakin mudah membeli productnya kembali."
      ],
      "metadata": {
        "id": "UuHLSJ5S6yUE"
      }
    },
    {
      "cell_type": "code",
      "source": [
        "#GMV by Month\n",
        "by_month = pd.pivot_table(df, values='gmv', index=['Month'], columns=['Year'],\n",
        "                    aggfunc=np.sum)\n",
        "by_month"
      ],
      "metadata": {
        "colab": {
          "base_uri": "https://localhost:8080/",
          "height": 175
        },
        "id": "5uyW3G7e6C3t",
        "outputId": "7adf8a74-d5ee-4b39-f5ab-c93d50ea45f1"
      },
      "execution_count": null,
      "outputs": [
        {
          "output_type": "execute_result",
          "data": {
            "text/plain": [
              "Year           2018          2019          2020\n",
              "Month                                          \n",
              "1      7.644542e+09  6.434698e+10  2.212427e+11\n",
              "2      1.276516e+10  4.284751e+10  4.360453e+10\n",
              "3      1.888191e+10  8.951925e+10  8.652582e+10"
            ],
            "text/html": [
              "\n",
              "  <div id=\"df-cdc4213e-4295-4731-983e-c1e87d1b355e\">\n",
              "    <div class=\"colab-df-container\">\n",
              "      <div>\n",
              "<style scoped>\n",
              "    .dataframe tbody tr th:only-of-type {\n",
              "        vertical-align: middle;\n",
              "    }\n",
              "\n",
              "    .dataframe tbody tr th {\n",
              "        vertical-align: top;\n",
              "    }\n",
              "\n",
              "    .dataframe thead th {\n",
              "        text-align: right;\n",
              "    }\n",
              "</style>\n",
              "<table border=\"1\" class=\"dataframe\">\n",
              "  <thead>\n",
              "    <tr style=\"text-align: right;\">\n",
              "      <th>Year</th>\n",
              "      <th>2018</th>\n",
              "      <th>2019</th>\n",
              "      <th>2020</th>\n",
              "    </tr>\n",
              "    <tr>\n",
              "      <th>Month</th>\n",
              "      <th></th>\n",
              "      <th></th>\n",
              "      <th></th>\n",
              "    </tr>\n",
              "  </thead>\n",
              "  <tbody>\n",
              "    <tr>\n",
              "      <th>1</th>\n",
              "      <td>7.644542e+09</td>\n",
              "      <td>6.434698e+10</td>\n",
              "      <td>2.212427e+11</td>\n",
              "    </tr>\n",
              "    <tr>\n",
              "      <th>2</th>\n",
              "      <td>1.276516e+10</td>\n",
              "      <td>4.284751e+10</td>\n",
              "      <td>4.360453e+10</td>\n",
              "    </tr>\n",
              "    <tr>\n",
              "      <th>3</th>\n",
              "      <td>1.888191e+10</td>\n",
              "      <td>8.951925e+10</td>\n",
              "      <td>8.652582e+10</td>\n",
              "    </tr>\n",
              "  </tbody>\n",
              "</table>\n",
              "</div>\n",
              "      <button class=\"colab-df-convert\" onclick=\"convertToInteractive('df-cdc4213e-4295-4731-983e-c1e87d1b355e')\"\n",
              "              title=\"Convert this dataframe to an interactive table.\"\n",
              "              style=\"display:none;\">\n",
              "        \n",
              "  <svg xmlns=\"http://www.w3.org/2000/svg\" height=\"24px\"viewBox=\"0 0 24 24\"\n",
              "       width=\"24px\">\n",
              "    <path d=\"M0 0h24v24H0V0z\" fill=\"none\"/>\n",
              "    <path d=\"M18.56 5.44l.94 2.06.94-2.06 2.06-.94-2.06-.94-.94-2.06-.94 2.06-2.06.94zm-11 1L8.5 8.5l.94-2.06 2.06-.94-2.06-.94L8.5 2.5l-.94 2.06-2.06.94zm10 10l.94 2.06.94-2.06 2.06-.94-2.06-.94-.94-2.06-.94 2.06-2.06.94z\"/><path d=\"M17.41 7.96l-1.37-1.37c-.4-.4-.92-.59-1.43-.59-.52 0-1.04.2-1.43.59L10.3 9.45l-7.72 7.72c-.78.78-.78 2.05 0 2.83L4 21.41c.39.39.9.59 1.41.59.51 0 1.02-.2 1.41-.59l7.78-7.78 2.81-2.81c.8-.78.8-2.07 0-2.86zM5.41 20L4 18.59l7.72-7.72 1.47 1.35L5.41 20z\"/>\n",
              "  </svg>\n",
              "      </button>\n",
              "      \n",
              "  <style>\n",
              "    .colab-df-container {\n",
              "      display:flex;\n",
              "      flex-wrap:wrap;\n",
              "      gap: 12px;\n",
              "    }\n",
              "\n",
              "    .colab-df-convert {\n",
              "      background-color: #E8F0FE;\n",
              "      border: none;\n",
              "      border-radius: 50%;\n",
              "      cursor: pointer;\n",
              "      display: none;\n",
              "      fill: #1967D2;\n",
              "      height: 32px;\n",
              "      padding: 0 0 0 0;\n",
              "      width: 32px;\n",
              "    }\n",
              "\n",
              "    .colab-df-convert:hover {\n",
              "      background-color: #E2EBFA;\n",
              "      box-shadow: 0px 1px 2px rgba(60, 64, 67, 0.3), 0px 1px 3px 1px rgba(60, 64, 67, 0.15);\n",
              "      fill: #174EA6;\n",
              "    }\n",
              "\n",
              "    [theme=dark] .colab-df-convert {\n",
              "      background-color: #3B4455;\n",
              "      fill: #D2E3FC;\n",
              "    }\n",
              "\n",
              "    [theme=dark] .colab-df-convert:hover {\n",
              "      background-color: #434B5C;\n",
              "      box-shadow: 0px 1px 3px 1px rgba(0, 0, 0, 0.15);\n",
              "      filter: drop-shadow(0px 1px 2px rgba(0, 0, 0, 0.3));\n",
              "      fill: #FFFFFF;\n",
              "    }\n",
              "  </style>\n",
              "\n",
              "      <script>\n",
              "        const buttonEl =\n",
              "          document.querySelector('#df-cdc4213e-4295-4731-983e-c1e87d1b355e button.colab-df-convert');\n",
              "        buttonEl.style.display =\n",
              "          google.colab.kernel.accessAllowed ? 'block' : 'none';\n",
              "\n",
              "        async function convertToInteractive(key) {\n",
              "          const element = document.querySelector('#df-cdc4213e-4295-4731-983e-c1e87d1b355e');\n",
              "          const dataTable =\n",
              "            await google.colab.kernel.invokeFunction('convertToInteractive',\n",
              "                                                     [key], {});\n",
              "          if (!dataTable) return;\n",
              "\n",
              "          const docLinkHtml = 'Like what you see? Visit the ' +\n",
              "            '<a target=\"_blank\" href=https://colab.research.google.com/notebooks/data_table.ipynb>data table notebook</a>'\n",
              "            + ' to learn more about interactive tables.';\n",
              "          element.innerHTML = '';\n",
              "          dataTable['output_type'] = 'display_data';\n",
              "          await google.colab.output.renderOutput(dataTable, element);\n",
              "          const docLink = document.createElement('div');\n",
              "          docLink.innerHTML = docLinkHtml;\n",
              "          element.appendChild(docLink);\n",
              "        }\n",
              "      </script>\n",
              "    </div>\n",
              "  </div>\n",
              "  "
            ]
          },
          "metadata": {},
          "execution_count": 25
        }
      ]
    },
    {
      "cell_type": "code",
      "source": [
        "#GMV by Month\n",
        "by_month.plot(kind='bar', figsize=(20,7))\n",
        "plt.xticks(rotation = 0)"
      ],
      "metadata": {
        "colab": {
          "base_uri": "https://localhost:8080/",
          "height": 470
        },
        "id": "vSKfOVNc6PWb",
        "outputId": "d8ebe41a-4f68-4e04-ed9f-f28dede1272e"
      },
      "execution_count": null,
      "outputs": [
        {
          "output_type": "execute_result",
          "data": {
            "text/plain": [
              "(array([0, 1, 2]), <a list of 3 Text major ticklabel objects>)"
            ]
          },
          "metadata": {},
          "execution_count": 26
        },
        {
          "output_type": "display_data",
          "data": {
            "text/plain": [
              "<Figure size 1440x504 with 1 Axes>"
            ],
            "image/png": "[encoded data removed]"
          },
          "metadata": {
            "needs_background": "light"
          }
        }
      ]
    },
    {
      "cell_type": "markdown",
      "source": [
        "**Insight**\n",
        "\n",
        "Total GMV dari tahun ke tahun cenderung meningkat dengan nilai tertinggi berada pada bulan januari 2020.\n",
        "\n",
        "**Recommendations**\n",
        "\n",
        "Perusahaan dapat memberikan promo, reward, atau diskon untuk event tertentu yang ada pada setiap bulan."
      ],
      "metadata": {
        "id": "uLG5Z3lW9v2d"
      }
    },
    {
      "cell_type": "code",
      "source": [
        "#GMV by Order Source\n",
        "by_os = pd.pivot_table(df, values='gmv', index=['order_source'], columns=['Year'],\n",
        "                    aggfunc=np.sum)\n",
        "by_os"
      ],
      "metadata": {
        "colab": {
          "base_uri": "https://localhost:8080/",
          "height": 206
        },
        "id": "bWWCvS0dGECl",
        "outputId": "473bd39f-3b68-4359-8115-bcce66397eab"
      },
      "execution_count": null,
      "outputs": [
        {
          "output_type": "execute_result",
          "data": {
            "text/plain": [
              "Year                  2018          2019          2020\n",
              "order_source                                          \n",
              "Android       3.671050e+09  9.156003e+10  1.809517e+11\n",
              "CMS                    NaN  8.449566e+08  9.300644e+08\n",
              "ios           3.895010e+07  1.339431e+10  1.190903e+09\n",
              "website       3.558161e+10  9.091444e+10  1.683003e+11"
            ],
            "text/html": [
              "\n",
              "  <div id=\"df-77f34137-3306-413b-b5a7-86dc2e8c55a0\">\n",
              "    <div class=\"colab-df-container\">\n",
              "      <div>\n",
              "<style scoped>\n",
              "    .dataframe tbody tr th:only-of-type {\n",
              "        vertical-align: middle;\n",
              "    }\n",
              "\n",
              "    .dataframe tbody tr th {\n",
              "        vertical-align: top;\n",
              "    }\n",
              "\n",
              "    .dataframe thead th {\n",
              "        text-align: right;\n",
              "    }\n",
              "</style>\n",
              "<table border=\"1\" class=\"dataframe\">\n",
              "  <thead>\n",
              "    <tr style=\"text-align: right;\">\n",
              "      <th>Year</th>\n",
              "      <th>2018</th>\n",
              "      <th>2019</th>\n",
              "      <th>2020</th>\n",
              "    </tr>\n",
              "    <tr>\n",
              "      <th>order_source</th>\n",
              "      <th></th>\n",
              "      <th></th>\n",
              "      <th></th>\n",
              "    </tr>\n",
              "  </thead>\n",
              "  <tbody>\n",
              "    <tr>\n",
              "      <th>Android</th>\n",
              "      <td>3.671050e+09</td>\n",
              "      <td>9.156003e+10</td>\n",
              "      <td>1.809517e+11</td>\n",
              "    </tr>\n",
              "    <tr>\n",
              "      <th>CMS</th>\n",
              "      <td>NaN</td>\n",
              "      <td>8.449566e+08</td>\n",
              "      <td>9.300644e+08</td>\n",
              "    </tr>\n",
              "    <tr>\n",
              "      <th>ios</th>\n",
              "      <td>3.895010e+07</td>\n",
              "      <td>1.339431e+10</td>\n",
              "      <td>1.190903e+09</td>\n",
              "    </tr>\n",
              "    <tr>\n",
              "      <th>website</th>\n",
              "      <td>3.558161e+10</td>\n",
              "      <td>9.091444e+10</td>\n",
              "      <td>1.683003e+11</td>\n",
              "    </tr>\n",
              "  </tbody>\n",
              "</table>\n",
              "</div>\n",
              "      <button class=\"colab-df-convert\" onclick=\"convertToInteractive('df-77f34137-3306-413b-b5a7-86dc2e8c55a0')\"\n",
              "              title=\"Convert this dataframe to an interactive table.\"\n",
              "              style=\"display:none;\">\n",
              "        \n",
              "  <svg xmlns=\"http://www.w3.org/2000/svg\" height=\"24px\"viewBox=\"0 0 24 24\"\n",
              "       width=\"24px\">\n",
              "    <path d=\"M0 0h24v24H0V0z\" fill=\"none\"/>\n",
              "    <path d=\"M18.56 5.44l.94 2.06.94-2.06 2.06-.94-2.06-.94-.94-2.06-.94 2.06-2.06.94zm-11 1L8.5 8.5l.94-2.06 2.06-.94-2.06-.94L8.5 2.5l-.94 2.06-2.06.94zm10 10l.94 2.06.94-2.06 2.06-.94-2.06-.94-.94-2.06-.94 2.06-2.06.94z\"/><path d=\"M17.41 7.96l-1.37-1.37c-.4-.4-.92-.59-1.43-.59-.52 0-1.04.2-1.43.59L10.3 9.45l-7.72 7.72c-.78.78-.78 2.05 0 2.83L4 21.41c.39.39.9.59 1.41.59.51 0 1.02-.2 1.41-.59l7.78-7.78 2.81-2.81c.8-.78.8-2.07 0-2.86zM5.41 20L4 18.59l7.72-7.72 1.47 1.35L5.41 20z\"/>\n",
              "  </svg>\n",
              "      </button>\n",
              "      \n",
              "  <style>\n",
              "    .colab-df-container {\n",
              "      display:flex;\n",
              "      flex-wrap:wrap;\n",
              "      gap: 12px;\n",
              "    }\n",
              "\n",
              "    .colab-df-convert {\n",
              "      background-color: #E8F0FE;\n",
              "      border: none;\n",
              "      border-radius: 50%;\n",
              "      cursor: pointer;\n",
              "      display: none;\n",
              "      fill: #1967D2;\n",
              "      height: 32px;\n",
              "      padding: 0 0 0 0;\n",
              "      width: 32px;\n",
              "    }\n",
              "\n",
              "    .colab-df-convert:hover {\n",
              "      background-color: #E2EBFA;\n",
              "      box-shadow: 0px 1px 2px rgba(60, 64, 67, 0.3), 0px 1px 3px 1px rgba(60, 64, 67, 0.15);\n",
              "      fill: #174EA6;\n",
              "    }\n",
              "\n",
              "    [theme=dark] .colab-df-convert {\n",
              "      background-color: #3B4455;\n",
              "      fill: #D2E3FC;\n",
              "    }\n",
              "\n",
              "    [theme=dark] .colab-df-convert:hover {\n",
              "      background-color: #434B5C;\n",
              "      box-shadow: 0px 1px 3px 1px rgba(0, 0, 0, 0.15);\n",
              "      filter: drop-shadow(0px 1px 2px rgba(0, 0, 0, 0.3));\n",
              "      fill: #FFFFFF;\n",
              "    }\n",
              "  </style>\n",
              "\n",
              "      <script>\n",
              "        const buttonEl =\n",
              "          document.querySelector('#df-77f34137-3306-413b-b5a7-86dc2e8c55a0 button.colab-df-convert');\n",
              "        buttonEl.style.display =\n",
              "          google.colab.kernel.accessAllowed ? 'block' : 'none';\n",
              "\n",
              "        async function convertToInteractive(key) {\n",
              "          const element = document.querySelector('#df-77f34137-3306-413b-b5a7-86dc2e8c55a0');\n",
              "          const dataTable =\n",
              "            await google.colab.kernel.invokeFunction('convertToInteractive',\n",
              "                                                     [key], {});\n",
              "          if (!dataTable) return;\n",
              "\n",
              "          const docLinkHtml = 'Like what you see? Visit the ' +\n",
              "            '<a target=\"_blank\" href=https://colab.research.google.com/notebooks/data_table.ipynb>data table notebook</a>'\n",
              "            + ' to learn more about interactive tables.';\n",
              "          element.innerHTML = '';\n",
              "          dataTable['output_type'] = 'display_data';\n",
              "          await google.colab.output.renderOutput(dataTable, element);\n",
              "          const docLink = document.createElement('div');\n",
              "          docLink.innerHTML = docLinkHtml;\n",
              "          element.appendChild(docLink);\n",
              "        }\n",
              "      </script>\n",
              "    </div>\n",
              "  </div>\n",
              "  "
            ]
          },
          "metadata": {},
          "execution_count": 27
        }
      ]
    },
    {
      "cell_type": "code",
      "source": [
        "#GMV by OS\n",
        "by_os.plot(kind='bar', figsize=(20,7))\n",
        "plt.xticks(rotation = 0)"
      ],
      "metadata": {
        "colab": {
          "base_uri": "https://localhost:8080/",
          "height": 471
        },
        "id": "5lpni5mwGP0V",
        "outputId": "fc323609-a31b-4376-9d62-00434febb94a"
      },
      "execution_count": null,
      "outputs": [
        {
          "output_type": "execute_result",
          "data": {
            "text/plain": [
              "(array([0, 1, 2, 3]), <a list of 4 Text major ticklabel objects>)"
            ]
          },
          "metadata": {},
          "execution_count": 28
        },
        {
          "output_type": "display_data",
          "data": {
            "text/plain": [
              "<Figure size 1440x504 with 1 Axes>"
            ],
            "image/png": "[encoded data removed]"
          },
          "metadata": {
            "needs_background": "light"
          }
        }
      ]
    },
    {
      "cell_type": "code",
      "source": [
        "#checking correlation between numerical variables\n",
        "corr = df_no_outliers.select_dtypes(include = ['float64', 'int64']).corr()\n",
        "plt.figure(figsize=(10, 10))\n",
        "\n",
        "sns.heatmap(corr[(corr >= 0.5) | (corr <= -0.4)], \n",
        "            cmap='viridis', vmax=1.0, vmin=-1.0, linewidths=0.1,\n",
        "            annot=True, annot_kws={\"size\": 8}, square=True);"
      ],
      "metadata": {
        "id": "xl15yQfXdpVh",
        "colab": {
          "base_uri": "https://localhost:8080/",
          "height": 658
        },
        "outputId": "a2f38b1a-b687-4cbf-96dc-2fc7f64ed376"
      },
      "execution_count": null,
      "outputs": [
        {
          "output_type": "display_data",
          "data": {
            "text/plain": [
              "<Figure size 720x720 with 2 Axes>"
            ],
            "image/png": "[encoded data removed]"
          },
          "metadata": {
            "needs_background": "light"
          }
        }
      ]
    },
    {
      "cell_type": "markdown",
      "source": [
        "Insight\n",
        "\n",
        "GMV berkorelasi positif kuat dengan revenue dan juga price.\n",
        "\n",
        "Recommendations\n",
        "\n",
        "Perusahaan dapat menaikkan sedikit harga barang untuk product yang sering dibeli customers sehingga dapat meningkatkan GMV."
      ],
      "metadata": {
        "id": "9wciC5Jm-SN8"
      }
    },
    {
      "cell_type": "code",
      "source": [
        "#filter data\n",
        "df3 = df_no_outliers[['order_source', 'gmv']]\n",
        "df3.head()"
      ],
      "metadata": {
        "colab": {
          "base_uri": "https://localhost:8080/",
          "height": 206
        },
        "id": "-1LVVpB9JTmj",
        "outputId": "a25f6fec-d55b-42bd-bd49-57c7d623b25e"
      },
      "execution_count": null,
      "outputs": [
        {
          "output_type": "execute_result",
          "data": {
            "text/plain": [
              "  order_source        gmv\n",
              "0      website   770000.0\n",
              "1      website  1175900.0\n",
              "2      website  1175900.0\n",
              "3      website  1175900.0\n",
              "4      website  1175900.0"
            ],
            "text/html": [
              "\n",
              "  <div id=\"df-41f58892-23f2-4cb2-9976-059963046627\">\n",
              "    <div class=\"colab-df-container\">\n",
              "      <div>\n",
              "<style scoped>\n",
              "    .dataframe tbody tr th:only-of-type {\n",
              "        vertical-align: middle;\n",
              "    }\n",
              "\n",
              "    .dataframe tbody tr th {\n",
              "        vertical-align: top;\n",
              "    }\n",
              "\n",
              "    .dataframe thead th {\n",
              "        text-align: right;\n",
              "    }\n",
              "</style>\n",
              "<table border=\"1\" class=\"dataframe\">\n",
              "  <thead>\n",
              "    <tr style=\"text-align: right;\">\n",
              "      <th></th>\n",
              "      <th>order_source</th>\n",
              "      <th>gmv</th>\n",
              "    </tr>\n",
              "  </thead>\n",
              "  <tbody>\n",
              "    <tr>\n",
              "      <th>0</th>\n",
              "      <td>website</td>\n",
              "      <td>770000.0</td>\n",
              "    </tr>\n",
              "    <tr>\n",
              "      <th>1</th>\n",
              "      <td>website</td>\n",
              "      <td>1175900.0</td>\n",
              "    </tr>\n",
              "    <tr>\n",
              "      <th>2</th>\n",
              "      <td>website</td>\n",
              "      <td>1175900.0</td>\n",
              "    </tr>\n",
              "    <tr>\n",
              "      <th>3</th>\n",
              "      <td>website</td>\n",
              "      <td>1175900.0</td>\n",
              "    </tr>\n",
              "    <tr>\n",
              "      <th>4</th>\n",
              "      <td>website</td>\n",
              "      <td>1175900.0</td>\n",
              "    </tr>\n",
              "  </tbody>\n",
              "</table>\n",
              "</div>\n",
              "      <button class=\"colab-df-convert\" onclick=\"convertToInteractive('df-41f58892-23f2-4cb2-9976-059963046627')\"\n",
              "              title=\"Convert this dataframe to an interactive table.\"\n",
              "              style=\"display:none;\">\n",
              "        \n",
              "  <svg xmlns=\"http://www.w3.org/2000/svg\" height=\"24px\"viewBox=\"0 0 24 24\"\n",
              "       width=\"24px\">\n",
              "    <path d=\"M0 0h24v24H0V0z\" fill=\"none\"/>\n",
              "    <path d=\"M18.56 5.44l.94 2.06.94-2.06 2.06-.94-2.06-.94-.94-2.06-.94 2.06-2.06.94zm-11 1L8.5 8.5l.94-2.06 2.06-.94-2.06-.94L8.5 2.5l-.94 2.06-2.06.94zm10 10l.94 2.06.94-2.06 2.06-.94-2.06-.94-.94-2.06-.94 2.06-2.06.94z\"/><path d=\"M17.41 7.96l-1.37-1.37c-.4-.4-.92-.59-1.43-.59-.52 0-1.04.2-1.43.59L10.3 9.45l-7.72 7.72c-.78.78-.78 2.05 0 2.83L4 21.41c.39.39.9.59 1.41.59.51 0 1.02-.2 1.41-.59l7.78-7.78 2.81-2.81c.8-.78.8-2.07 0-2.86zM5.41 20L4 18.59l7.72-7.72 1.47 1.35L5.41 20z\"/>\n",
              "  </svg>\n",
              "      </button>\n",
              "      \n",
              "  <style>\n",
              "    .colab-df-container {\n",
              "      display:flex;\n",
              "      flex-wrap:wrap;\n",
              "      gap: 12px;\n",
              "    }\n",
              "\n",
              "    .colab-df-convert {\n",
              "      background-color: #E8F0FE;\n",
              "      border: none;\n",
              "      border-radius: 50%;\n",
              "      cursor: pointer;\n",
              "      display: none;\n",
              "      fill: #1967D2;\n",
              "      height: 32px;\n",
              "      padding: 0 0 0 0;\n",
              "      width: 32px;\n",
              "    }\n",
              "\n",
              "    .colab-df-convert:hover {\n",
              "      background-color: #E2EBFA;\n",
              "      box-shadow: 0px 1px 2px rgba(60, 64, 67, 0.3), 0px 1px 3px 1px rgba(60, 64, 67, 0.15);\n",
              "      fill: #174EA6;\n",
              "    }\n",
              "\n",
              "    [theme=dark] .colab-df-convert {\n",
              "      background-color: #3B4455;\n",
              "      fill: #D2E3FC;\n",
              "    }\n",
              "\n",
              "    [theme=dark] .colab-df-convert:hover {\n",
              "      background-color: #434B5C;\n",
              "      box-shadow: 0px 1px 3px 1px rgba(0, 0, 0, 0.15);\n",
              "      filter: drop-shadow(0px 1px 2px rgba(0, 0, 0, 0.3));\n",
              "      fill: #FFFFFF;\n",
              "    }\n",
              "  </style>\n",
              "\n",
              "      <script>\n",
              "        const buttonEl =\n",
              "          document.querySelector('#df-41f58892-23f2-4cb2-9976-059963046627 button.colab-df-convert');\n",
              "        buttonEl.style.display =\n",
              "          google.colab.kernel.accessAllowed ? 'block' : 'none';\n",
              "\n",
              "        async function convertToInteractive(key) {\n",
              "          const element = document.querySelector('#df-41f58892-23f2-4cb2-9976-059963046627');\n",
              "          const dataTable =\n",
              "            await google.colab.kernel.invokeFunction('convertToInteractive',\n",
              "                                                     [key], {});\n",
              "          if (!dataTable) return;\n",
              "\n",
              "          const docLinkHtml = 'Like what you see? Visit the ' +\n",
              "            '<a target=\"_blank\" href=https://colab.research.google.com/notebooks/data_table.ipynb>data table notebook</a>'\n",
              "            + ' to learn more about interactive tables.';\n",
              "          element.innerHTML = '';\n",
              "          dataTable['output_type'] = 'display_data';\n",
              "          await google.colab.output.renderOutput(dataTable, element);\n",
              "          const docLink = document.createElement('div');\n",
              "          docLink.innerHTML = docLinkHtml;\n",
              "          element.appendChild(docLink);\n",
              "        }\n",
              "      </script>\n",
              "    </div>\n",
              "  </div>\n",
              "  "
            ]
          },
          "metadata": {},
          "execution_count": 30
        }
      ]
    },
    {
      "cell_type": "code",
      "source": [
        "#Transform data to create dummy variable\n",
        "df3[\"android\"] = np.where(df3['order_source']=='Android', 1, 0) #D1 for Android\n",
        "df3[\"website\"] = np.where(df3['order_source']=='website', 1, 0) #D2 for Website\n",
        "df3[\"ios\"] = np.where(df3['order_source']=='ios', 1, 0) #D3 for ios\n",
        "df3.head()"
      ],
      "metadata": {
        "colab": {
          "base_uri": "https://localhost:8080/",
          "height": 519
        },
        "id": "LX4wLzEuJbKy",
        "outputId": "6938352b-eb2e-49f0-a997-074302595600"
      },
      "execution_count": null,
      "outputs": [
        {
          "output_type": "stream",
          "name": "stderr",
          "text": [
            "<ipython-input-31-2e20dfc7dfdd>:2: SettingWithCopyWarning: \n",
            "A value is trying to be set on a copy of a slice from a DataFrame.\n",
            "Try using .loc[row_indexer,col_indexer] = value instead\n",
            "\n",
            "See the caveats in the documentation: https://pandas.pydata.org/pandas-docs/stable/user_guide/indexing.html#returning-a-view-versus-a-copy\n",
            "  df3[\"android\"] = np.where(df3['order_source']=='Android', 1, 0) #D1 for Android\n",
            "<ipython-input-31-2e20dfc7dfdd>:3: SettingWithCopyWarning: \n",
            "A value is trying to be set on a copy of a slice from a DataFrame.\n",
            "Try using .loc[row_indexer,col_indexer] = value instead\n",
            "\n",
            "See the caveats in the documentation: https://pandas.pydata.org/pandas-docs/stable/user_guide/indexing.html#returning-a-view-versus-a-copy\n",
            "  df3[\"website\"] = np.where(df3['order_source']=='website', 1, 0) #D2 for Website\n",
            "<ipython-input-31-2e20dfc7dfdd>:4: SettingWithCopyWarning: \n",
            "A value is trying to be set on a copy of a slice from a DataFrame.\n",
            "Try using .loc[row_indexer,col_indexer] = value instead\n",
            "\n",
            "See the caveats in the documentation: https://pandas.pydata.org/pandas-docs/stable/user_guide/indexing.html#returning-a-view-versus-a-copy\n",
            "  df3[\"ios\"] = np.where(df3['order_source']=='ios', 1, 0) #D3 for ios\n"
          ]
        },
        {
          "output_type": "execute_result",
          "data": {
            "text/plain": [
              "  order_source        gmv  android  website  ios\n",
              "0      website   770000.0        0        1    0\n",
              "1      website  1175900.0        0        1    0\n",
              "2      website  1175900.0        0        1    0\n",
              "3      website  1175900.0        0        1    0\n",
              "4      website  1175900.0        0        1    0"
            ],
            "text/html": [
              "\n",
              "  <div id=\"df-84f87e1d-93ef-445a-a59f-901fb76002ef\">\n",
              "    <div class=\"colab-df-container\">\n",
              "      <div>\n",
              "<style scoped>\n",
              "    .dataframe tbody tr th:only-of-type {\n",
              "        vertical-align: middle;\n",
              "    }\n",
              "\n",
              "    .dataframe tbody tr th {\n",
              "        vertical-align: top;\n",
              "    }\n",
              "\n",
              "    .dataframe thead th {\n",
              "        text-align: right;\n",
              "    }\n",
              "</style>\n",
              "<table border=\"1\" class=\"dataframe\">\n",
              "  <thead>\n",
              "    <tr style=\"text-align: right;\">\n",
              "      <th></th>\n",
              "      <th>order_source</th>\n",
              "      <th>gmv</th>\n",
              "      <th>android</th>\n",
              "      <th>website</th>\n",
              "      <th>ios</th>\n",
              "    </tr>\n",
              "  </thead>\n",
              "  <tbody>\n",
              "    <tr>\n",
              "      <th>0</th>\n",
              "      <td>website</td>\n",
              "      <td>770000.0</td>\n",
              "      <td>0</td>\n",
              "      <td>1</td>\n",
              "      <td>0</td>\n",
              "    </tr>\n",
              "    <tr>\n",
              "      <th>1</th>\n",
              "      <td>website</td>\n",
              "      <td>1175900.0</td>\n",
              "      <td>0</td>\n",
              "      <td>1</td>\n",
              "      <td>0</td>\n",
              "    </tr>\n",
              "    <tr>\n",
              "      <th>2</th>\n",
              "      <td>website</td>\n",
              "      <td>1175900.0</td>\n",
              "      <td>0</td>\n",
              "      <td>1</td>\n",
              "      <td>0</td>\n",
              "    </tr>\n",
              "    <tr>\n",
              "      <th>3</th>\n",
              "      <td>website</td>\n",
              "      <td>1175900.0</td>\n",
              "      <td>0</td>\n",
              "      <td>1</td>\n",
              "      <td>0</td>\n",
              "    </tr>\n",
              "    <tr>\n",
              "      <th>4</th>\n",
              "      <td>website</td>\n",
              "      <td>1175900.0</td>\n",
              "      <td>0</td>\n",
              "      <td>1</td>\n",
              "      <td>0</td>\n",
              "    </tr>\n",
              "  </tbody>\n",
              "</table>\n",
              "</div>\n",
              "      <button class=\"colab-df-convert\" onclick=\"convertToInteractive('df-84f87e1d-93ef-445a-a59f-901fb76002ef')\"\n",
              "              title=\"Convert this dataframe to an interactive table.\"\n",
              "              style=\"display:none;\">\n",
              "        \n",
              "  <svg xmlns=\"http://www.w3.org/2000/svg\" height=\"24px\"viewBox=\"0 0 24 24\"\n",
              "       width=\"24px\">\n",
              "    <path d=\"M0 0h24v24H0V0z\" fill=\"none\"/>\n",
              "    <path d=\"M18.56 5.44l.94 2.06.94-2.06 2.06-.94-2.06-.94-.94-2.06-.94 2.06-2.06.94zm-11 1L8.5 8.5l.94-2.06 2.06-.94-2.06-.94L8.5 2.5l-.94 2.06-2.06.94zm10 10l.94 2.06.94-2.06 2.06-.94-2.06-.94-.94-2.06-.94 2.06-2.06.94z\"/><path d=\"M17.41 7.96l-1.37-1.37c-.4-.4-.92-.59-1.43-.59-.52 0-1.04.2-1.43.59L10.3 9.45l-7.72 7.72c-.78.78-.78 2.05 0 2.83L4 21.41c.39.39.9.59 1.41.59.51 0 1.02-.2 1.41-.59l7.78-7.78 2.81-2.81c.8-.78.8-2.07 0-2.86zM5.41 20L4 18.59l7.72-7.72 1.47 1.35L5.41 20z\"/>\n",
              "  </svg>\n",
              "      </button>\n",
              "      \n",
              "  <style>\n",
              "    .colab-df-container {\n",
              "      display:flex;\n",
              "      flex-wrap:wrap;\n",
              "      gap: 12px;\n",
              "    }\n",
              "\n",
              "    .colab-df-convert {\n",
              "      background-color: #E8F0FE;\n",
              "      border: none;\n",
              "      border-radius: 50%;\n",
              "      cursor: pointer;\n",
              "      display: none;\n",
              "      fill: #1967D2;\n",
              "      height: 32px;\n",
              "      padding: 0 0 0 0;\n",
              "      width: 32px;\n",
              "    }\n",
              "\n",
              "    .colab-df-convert:hover {\n",
              "      background-color: #E2EBFA;\n",
              "      box-shadow: 0px 1px 2px rgba(60, 64, 67, 0.3), 0px 1px 3px 1px rgba(60, 64, 67, 0.15);\n",
              "      fill: #174EA6;\n",
              "    }\n",
              "\n",
              "    [theme=dark] .colab-df-convert {\n",
              "      background-color: #3B4455;\n",
              "      fill: #D2E3FC;\n",
              "    }\n",
              "\n",
              "    [theme=dark] .colab-df-convert:hover {\n",
              "      background-color: #434B5C;\n",
              "      box-shadow: 0px 1px 3px 1px rgba(0, 0, 0, 0.15);\n",
              "      filter: drop-shadow(0px 1px 2px rgba(0, 0, 0, 0.3));\n",
              "      fill: #FFFFFF;\n",
              "    }\n",
              "  </style>\n",
              "\n",
              "      <script>\n",
              "        const buttonEl =\n",
              "          document.querySelector('#df-84f87e1d-93ef-445a-a59f-901fb76002ef button.colab-df-convert');\n",
              "        buttonEl.style.display =\n",
              "          google.colab.kernel.accessAllowed ? 'block' : 'none';\n",
              "\n",
              "        async function convertToInteractive(key) {\n",
              "          const element = document.querySelector('#df-84f87e1d-93ef-445a-a59f-901fb76002ef');\n",
              "          const dataTable =\n",
              "            await google.colab.kernel.invokeFunction('convertToInteractive',\n",
              "                                                     [key], {});\n",
              "          if (!dataTable) return;\n",
              "\n",
              "          const docLinkHtml = 'Like what you see? Visit the ' +\n",
              "            '<a target=\"_blank\" href=https://colab.research.google.com/notebooks/data_table.ipynb>data table notebook</a>'\n",
              "            + ' to learn more about interactive tables.';\n",
              "          element.innerHTML = '';\n",
              "          dataTable['output_type'] = 'display_data';\n",
              "          await google.colab.output.renderOutput(dataTable, element);\n",
              "          const docLink = document.createElement('div');\n",
              "          docLink.innerHTML = docLinkHtml;\n",
              "          element.appendChild(docLink);\n",
              "        }\n",
              "      </script>\n",
              "    </div>\n",
              "  </div>\n",
              "  "
            ]
          },
          "metadata": {},
          "execution_count": 31
        }
      ]
    },
    {
      "cell_type": "code",
      "source": [
        "#define variable dependent and independent\n",
        "x = df3[['android','website', 'ios']]\n",
        "y = df3['gmv']"
      ],
      "metadata": {
        "id": "jHxy0XU1JsJa"
      },
      "execution_count": null,
      "outputs": []
    },
    {
      "cell_type": "code",
      "source": [
        "#build regression model\n",
        "regr = linear_model.LinearRegression()\n",
        "regr.fit(x, y)\n",
        "\n",
        "print('Intercept: \\n', regr.intercept_)\n",
        "print('Coefficients: \\n', regr.coef_)\n",
        "\n",
        "# with statsmodels\n",
        "x = sm.add_constant(x) # adding a constant\n",
        " \n",
        "model = sm.OLS(y, x).fit()\n",
        "predictions = model.predict(x) \n",
        " \n",
        "print_model = model.summary()\n",
        "print(print_model)"
      ],
      "metadata": {
        "colab": {
          "base_uri": "https://localhost:8080/"
        },
        "id": "m2s1E-TkJw7D",
        "outputId": "1e6363d4-5ceb-4242-f547-46993781c796"
      },
      "execution_count": null,
      "outputs": [
        {
          "output_type": "stream",
          "name": "stdout",
          "text": [
            "Intercept: \n",
            " 1278399.7514792902\n",
            "Coefficients: \n",
            " [  -7244.66011162 1058810.92474199   58420.31799055]\n",
            "                            OLS Regression Results                            \n",
            "==============================================================================\n",
            "Dep. Variable:                    gmv   R-squared:                       0.078\n",
            "Model:                            OLS   Adj. R-squared:                  0.078\n",
            "Method:                 Least Squares   F-statistic:                     1220.\n",
            "Date:                Fri, 02 Dec 2022   Prob (F-statistic):               0.00\n",
            "Time:                        13:00:26   Log-Likelihood:            -6.8565e+05\n",
            "No. Observations:               43498   AIC:                         1.371e+06\n",
            "Df Residuals:                   43494   BIC:                         1.371e+06\n",
            "Df Model:                           3                                         \n",
            "Covariance Type:            nonrobust                                         \n",
            "==============================================================================\n",
            "                 coef    std err          t      P>|t|      [0.025      0.975]\n",
            "------------------------------------------------------------------------------\n",
            "const       1.278e+06   4.61e+04     27.710      0.000    1.19e+06    1.37e+06\n",
            "android    -7244.6601   4.72e+04     -0.153      0.878   -9.98e+04    8.53e+04\n",
            "website     1.059e+06   4.84e+04     21.877      0.000    9.64e+05    1.15e+06\n",
            "ios         5.842e+04    8.6e+04      0.680      0.497    -1.1e+05    2.27e+05\n",
            "==============================================================================\n",
            "Omnibus:                    20344.344   Durbin-Watson:                   0.246\n",
            "Prob(Omnibus):                  0.000   Jarque-Bera (JB):           109674.844\n",
            "Skew:                           2.259   Prob(JB):                         0.00\n",
            "Kurtosis:                       9.332   Cond. No.                         15.8\n",
            "==============================================================================\n",
            "\n",
            "Notes:\n",
            "[1] Standard Errors assume that the covariance matrix of the errors is correctly specified.\n"
          ]
        },
        {
          "output_type": "stream",
          "name": "stderr",
          "text": [
            "/usr/local/lib/python3.8/dist-packages/statsmodels/tsa/tsatools.py:142: FutureWarning: In a future version of pandas all arguments of concat except for the argument 'objs' will be keyword-only\n",
            "  x = pd.concat(x[::order], 1)\n"
          ]
        }
      ]
    },
    {
      "cell_type": "markdown",
      "source": [
        "Dengan mengambil taraf signifikansi 5%\n",
        "\n",
        "Secara stimultan, jenis platform berperan terhadap GMV secara signifikan (p-value < 0.05). Diperoleh juga peran jenis platform terhadap GMV yaitu 7,8% ( R-Squared = 0.078) sedangkan sisanya dipengaruhi oleh variabel lain yang tidak dijelaskan dalam model.\n",
        "\n",
        "Secara parsial, variabel dummy website berperan signifikan (p-value < 0.05). Pada variabel dummy website memiliki nilai GMV yang lebih tinggi dari platform yang lain. Sehingga ada perbedaan dari jenis platform terhadap nilai GMV."
      ],
      "metadata": {
        "id": "iXBrXCMrKblL"
      }
    },
    {
      "cell_type": "markdown",
      "source": [
        "## **Conclusion**\n",
        "Terdapat pengaruh dari jenis platform yang digunakan customers terhadap nilai GMV. Adapun langkah yang perlu dilakukan agar meningkatkan GMV dari berbagai platform sebagai berikut.\n",
        "\n",
        "1. Melakukan pengoptimalan kualitas semua platform ralali agar customers mendapatkan experience yang sama dalam setiap platform yang digunakan.\n",
        "\n",
        "2. Memberi perlakuan yang berbeda kepada customers untuk setiap platform. Misalkan memberi promo untuk setiap instalasi aplikasi Ralali di Android atau ios sehingga branding dari ralali bisa ikut meningkat.\n",
        "\n",
        "3. Memberikan pelayanan terbaik seperti pemberian diskon, pengiriman gratis, dan sebagainya"
      ],
      "metadata": {
        "id": "W-6mY3pKLGbM"
      }
    }
  ]
}