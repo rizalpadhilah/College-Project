{
  "cells": [
    {
      "cell_type": "code",
      "execution_count": null,
      "id": "0832260e",
      "metadata": {
        "id": "0832260e"
      },
      "outputs": [],
      "source": [
        "#import packages\n",
        "import pandas as pd\n",
        "import numpy as np\n",
        "import matplotlib.pyplot as plt\n",
        "import seaborn as sns"
      ]
    },
    {
      "cell_type": "markdown",
      "id": "b984a8e2",
      "metadata": {
        "id": "b984a8e2"
      },
      "source": [
        "### Original Data"
      ]
    },
    {
      "cell_type": "code",
      "execution_count": null,
      "id": "09b48d40",
      "metadata": {
        "id": "09b48d40",
        "outputId": "8f0afab8-d926-4909-f24c-f203c26f446d",
        "colab": {
          "base_uri": "https://localhost:8080/",
          "height": 332
        }
      },
      "outputs": [
        {
          "output_type": "execute_result",
          "data": {
            "text/plain": [
              "     name  weight  height  birth_year  gender      city\n",
              "0    Anna    45.2     155        2000  female  New York\n",
              "1    Dane    50.5     160        1997    male  New York\n",
              "2   David    62.1     162        1996    male    Austin\n",
              "3   Kevin    64.0     170        1977    male  New York\n",
              "4     Joe    59.0     167        1998    male       NaN\n",
              "5    Rose     NaN     159        2003  female  New York\n",
              "6    Jane    40.8     150        2001  female  New York\n",
              "7  Krista    41.5     148        2002  female  New York\n",
              "8  Reiner    70.0     170        1999    male  New York"
            ],
            "text/html": [
              "\n",
              "  <div id=\"df-b55da291-96f4-4e15-9ace-e639afcadbcb\">\n",
              "    <div class=\"colab-df-container\">\n",
              "      <div>\n",
              "<style scoped>\n",
              "    .dataframe tbody tr th:only-of-type {\n",
              "        vertical-align: middle;\n",
              "    }\n",
              "\n",
              "    .dataframe tbody tr th {\n",
              "        vertical-align: top;\n",
              "    }\n",
              "\n",
              "    .dataframe thead th {\n",
              "        text-align: right;\n",
              "    }\n",
              "</style>\n",
              "<table border=\"1\" class=\"dataframe\">\n",
              "  <thead>\n",
              "    <tr style=\"text-align: right;\">\n",
              "      <th></th>\n",
              "      <th>name</th>\n",
              "      <th>weight</th>\n",
              "      <th>height</th>\n",
              "      <th>birth_year</th>\n",
              "      <th>gender</th>\n",
              "      <th>city</th>\n",
              "    </tr>\n",
              "  </thead>\n",
              "  <tbody>\n",
              "    <tr>\n",
              "      <th>0</th>\n",
              "      <td>Anna</td>\n",
              "      <td>45.2</td>\n",
              "      <td>155</td>\n",
              "      <td>2000</td>\n",
              "      <td>female</td>\n",
              "      <td>New York</td>\n",
              "    </tr>\n",
              "    <tr>\n",
              "      <th>1</th>\n",
              "      <td>Dane</td>\n",
              "      <td>50.5</td>\n",
              "      <td>160</td>\n",
              "      <td>1997</td>\n",
              "      <td>male</td>\n",
              "      <td>New York</td>\n",
              "    </tr>\n",
              "    <tr>\n",
              "      <th>2</th>\n",
              "      <td>David</td>\n",
              "      <td>62.1</td>\n",
              "      <td>162</td>\n",
              "      <td>1996</td>\n",
              "      <td>male</td>\n",
              "      <td>Austin</td>\n",
              "    </tr>\n",
              "    <tr>\n",
              "      <th>3</th>\n",
              "      <td>Kevin</td>\n",
              "      <td>64.0</td>\n",
              "      <td>170</td>\n",
              "      <td>1977</td>\n",
              "      <td>male</td>\n",
              "      <td>New York</td>\n",
              "    </tr>\n",
              "    <tr>\n",
              "      <th>4</th>\n",
              "      <td>Joe</td>\n",
              "      <td>59.0</td>\n",
              "      <td>167</td>\n",
              "      <td>1998</td>\n",
              "      <td>male</td>\n",
              "      <td>NaN</td>\n",
              "    </tr>\n",
              "    <tr>\n",
              "      <th>5</th>\n",
              "      <td>Rose</td>\n",
              "      <td>NaN</td>\n",
              "      <td>159</td>\n",
              "      <td>2003</td>\n",
              "      <td>female</td>\n",
              "      <td>New York</td>\n",
              "    </tr>\n",
              "    <tr>\n",
              "      <th>6</th>\n",
              "      <td>Jane</td>\n",
              "      <td>40.8</td>\n",
              "      <td>150</td>\n",
              "      <td>2001</td>\n",
              "      <td>female</td>\n",
              "      <td>New York</td>\n",
              "    </tr>\n",
              "    <tr>\n",
              "      <th>7</th>\n",
              "      <td>Krista</td>\n",
              "      <td>41.5</td>\n",
              "      <td>148</td>\n",
              "      <td>2002</td>\n",
              "      <td>female</td>\n",
              "      <td>New York</td>\n",
              "    </tr>\n",
              "    <tr>\n",
              "      <th>8</th>\n",
              "      <td>Reiner</td>\n",
              "      <td>70.0</td>\n",
              "      <td>170</td>\n",
              "      <td>1999</td>\n",
              "      <td>male</td>\n",
              "      <td>New York</td>\n",
              "    </tr>\n",
              "  </tbody>\n",
              "</table>\n",
              "</div>\n",
              "      <button class=\"colab-df-convert\" onclick=\"convertToInteractive('df-b55da291-96f4-4e15-9ace-e639afcadbcb')\"\n",
              "              title=\"Convert this dataframe to an interactive table.\"\n",
              "              style=\"display:none;\">\n",
              "        \n",
              "  <svg xmlns=\"http://www.w3.org/2000/svg\" height=\"24px\"viewBox=\"0 0 24 24\"\n",
              "       width=\"24px\">\n",
              "    <path d=\"M0 0h24v24H0V0z\" fill=\"none\"/>\n",
              "    <path d=\"M18.56 5.44l.94 2.06.94-2.06 2.06-.94-2.06-.94-.94-2.06-.94 2.06-2.06.94zm-11 1L8.5 8.5l.94-2.06 2.06-.94-2.06-.94L8.5 2.5l-.94 2.06-2.06.94zm10 10l.94 2.06.94-2.06 2.06-.94-2.06-.94-.94-2.06-.94 2.06-2.06.94z\"/><path d=\"M17.41 7.96l-1.37-1.37c-.4-.4-.92-.59-1.43-.59-.52 0-1.04.2-1.43.59L10.3 9.45l-7.72 7.72c-.78.78-.78 2.05 0 2.83L4 21.41c.39.39.9.59 1.41.59.51 0 1.02-.2 1.41-.59l7.78-7.78 2.81-2.81c.8-.78.8-2.07 0-2.86zM5.41 20L4 18.59l7.72-7.72 1.47 1.35L5.41 20z\"/>\n",
              "  </svg>\n",
              "      </button>\n",
              "      \n",
              "  <style>\n",
              "    .colab-df-container {\n",
              "      display:flex;\n",
              "      flex-wrap:wrap;\n",
              "      gap: 12px;\n",
              "    }\n",
              "\n",
              "    .colab-df-convert {\n",
              "      background-color: #E8F0FE;\n",
              "      border: none;\n",
              "      border-radius: 50%;\n",
              "      cursor: pointer;\n",
              "      display: none;\n",
              "      fill: #1967D2;\n",
              "      height: 32px;\n",
              "      padding: 0 0 0 0;\n",
              "      width: 32px;\n",
              "    }\n",
              "\n",
              "    .colab-df-convert:hover {\n",
              "      background-color: #E2EBFA;\n",
              "      box-shadow: 0px 1px 2px rgba(60, 64, 67, 0.3), 0px 1px 3px 1px rgba(60, 64, 67, 0.15);\n",
              "      fill: #174EA6;\n",
              "    }\n",
              "\n",
              "    [theme=dark] .colab-df-convert {\n",
              "      background-color: #3B4455;\n",
              "      fill: #D2E3FC;\n",
              "    }\n",
              "\n",
              "    [theme=dark] .colab-df-convert:hover {\n",
              "      background-color: #434B5C;\n",
              "      box-shadow: 0px 1px 3px 1px rgba(0, 0, 0, 0.15);\n",
              "      filter: drop-shadow(0px 1px 2px rgba(0, 0, 0, 0.3));\n",
              "      fill: #FFFFFF;\n",
              "    }\n",
              "  </style>\n",
              "\n",
              "      <script>\n",
              "        const buttonEl =\n",
              "          document.querySelector('#df-b55da291-96f4-4e15-9ace-e639afcadbcb button.colab-df-convert');\n",
              "        buttonEl.style.display =\n",
              "          google.colab.kernel.accessAllowed ? 'block' : 'none';\n",
              "\n",
              "        async function convertToInteractive(key) {\n",
              "          const element = document.querySelector('#df-b55da291-96f4-4e15-9ace-e639afcadbcb');\n",
              "          const dataTable =\n",
              "            await google.colab.kernel.invokeFunction('convertToInteractive',\n",
              "                                                     [key], {});\n",
              "          if (!dataTable) return;\n",
              "\n",
              "          const docLinkHtml = 'Like what you see? Visit the ' +\n",
              "            '<a target=\"_blank\" href=https://colab.research.google.com/notebooks/data_table.ipynb>data table notebook</a>'\n",
              "            + ' to learn more about interactive tables.';\n",
              "          element.innerHTML = '';\n",
              "          dataTable['output_type'] = 'display_data';\n",
              "          await google.colab.output.renderOutput(dataTable, element);\n",
              "          const docLink = document.createElement('div');\n",
              "          docLink.innerHTML = docLinkHtml;\n",
              "          element.appendChild(docLink);\n",
              "        }\n",
              "      </script>\n",
              "    </div>\n",
              "  </div>\n",
              "  "
            ]
          },
          "metadata": {},
          "execution_count": 14
        }
      ],
      "source": [
        "df = pd.DataFrame({\n",
        "    \"name\": [\"Anna\", \"Dane\", \"David\", \"Kevin\", \"Joe\", \"Rose\", \"Jane\", \"Krista\", \"Reiner\"],\n",
        "    \"weight\": [45.2, 50.5, 62.1, 64.0, 59.0, np.nan, 40.8, 41.5, 70.0],\n",
        "    \"height\": [155, 160, 162, 170, 167, 159, 150, 148, 170],\n",
        "    \"birth_year\": [2000,1997,1996,1977,1998,2003,2001,2002,1999],\n",
        "    \"gender\": [\"female\", \"male\", \"male\", \"male\", \"male\", \"female\", \"female\", \"female\", \"male\"],\n",
        "    \"city\": [\"New York\", \"New York\", \"Austin\", \"New York\", np.nan, \"New York\", \"New York\", \"New York\", \"New York\"]\n",
        "    })\n",
        "df"
      ]
    },
    {
      "cell_type": "markdown",
      "id": "7f0a5ffb",
      "metadata": {
        "id": "7f0a5ffb"
      },
      "source": [
        "### Task\n",
        "\n",
        "1. What is the average height of males? \n",
        "2. Fill the missing value in the `weight` column.\n",
        "3. Fill the missing value in the `city` column.\n",
        "4. Find out if any of our numerical features (`weight`, `height`, `birth_year`) have any outliers. If yes, tell us:\n",
        "\n",
        "    a. the `name` of the person who is an outlier\n",
        "    \n",
        "    b. why is he/she an outlier"
      ]
    },
    {
      "cell_type": "markdown",
      "id": "3d8d7d90",
      "metadata": {
        "id": "3d8d7d90"
      },
      "source": [
        "### Your Answer:"
      ]
    },
    {
      "cell_type": "markdown",
      "id": "032e0a96",
      "metadata": {
        "id": "032e0a96"
      },
      "source": [
        "#### Nomor 1:"
      ]
    },
    {
      "cell_type": "code",
      "execution_count": null,
      "id": "98766d83",
      "metadata": {
        "id": "98766d83"
      },
      "outputs": [],
      "source": [
        "#menghitung rata-rata height pria\n",
        "avg_height = df.loc[df['gender'] =='male','height'].mean()"
      ]
    },
    {
      "cell_type": "code",
      "execution_count": null,
      "id": "702008dc",
      "metadata": {
        "id": "702008dc",
        "colab": {
          "base_uri": "https://localhost:8080/"
        },
        "outputId": "a690f352-6ae7-4df4-d848-14569e12e7f4"
      },
      "outputs": [
        {
          "output_type": "stream",
          "name": "stdout",
          "text": [
            "165.8\n"
          ]
        }
      ],
      "source": [
        "#print avg_height\n",
        "print(avg_height.round(1))"
      ]
    },
    {
      "cell_type": "markdown",
      "id": "8298773f",
      "metadata": {
        "id": "8298773f"
      },
      "source": [
        "#### Nomor 2:"
      ]
    },
    {
      "cell_type": "code",
      "execution_count": null,
      "id": "4e9b6e3c",
      "metadata": {
        "id": "4e9b6e3c"
      },
      "outputs": [],
      "source": [
        "#mengisi missing value kolom weight dengan mean\n",
        "df['weight'].fillna(df.loc[df['gender'] =='female','weight'].mean().round(1), inplace=True)"
      ]
    },
    {
      "cell_type": "code",
      "execution_count": null,
      "id": "67add726",
      "metadata": {
        "id": "67add726",
        "colab": {
          "base_uri": "https://localhost:8080/",
          "height": 332
        },
        "outputId": "932fee76-23f2-4870-b1c9-567e3230948b"
      },
      "outputs": [
        {
          "output_type": "execute_result",
          "data": {
            "text/plain": [
              "     name  weight  height  birth_year  gender      city\n",
              "0    Anna    45.2     155        2000  female  New York\n",
              "1    Dane    50.5     160        1997    male  New York\n",
              "2   David    62.1     162        1996    male    Austin\n",
              "3   Kevin    64.0     170        1977    male  New York\n",
              "4     Joe    59.0     167        1998    male       NaN\n",
              "5    Rose    42.5     159        2003  female  New York\n",
              "6    Jane    40.8     150        2001  female  New York\n",
              "7  Krista    41.5     148        2002  female  New York\n",
              "8  Reiner    70.0     170        1999    male  New York"
            ],
            "text/html": [
              "\n",
              "  <div id=\"df-8f3ff469-ad49-4266-8b72-4b770c85dca7\">\n",
              "    <div class=\"colab-df-container\">\n",
              "      <div>\n",
              "<style scoped>\n",
              "    .dataframe tbody tr th:only-of-type {\n",
              "        vertical-align: middle;\n",
              "    }\n",
              "\n",
              "    .dataframe tbody tr th {\n",
              "        vertical-align: top;\n",
              "    }\n",
              "\n",
              "    .dataframe thead th {\n",
              "        text-align: right;\n",
              "    }\n",
              "</style>\n",
              "<table border=\"1\" class=\"dataframe\">\n",
              "  <thead>\n",
              "    <tr style=\"text-align: right;\">\n",
              "      <th></th>\n",
              "      <th>name</th>\n",
              "      <th>weight</th>\n",
              "      <th>height</th>\n",
              "      <th>birth_year</th>\n",
              "      <th>gender</th>\n",
              "      <th>city</th>\n",
              "    </tr>\n",
              "  </thead>\n",
              "  <tbody>\n",
              "    <tr>\n",
              "      <th>0</th>\n",
              "      <td>Anna</td>\n",
              "      <td>45.2</td>\n",
              "      <td>155</td>\n",
              "      <td>2000</td>\n",
              "      <td>female</td>\n",
              "      <td>New York</td>\n",
              "    </tr>\n",
              "    <tr>\n",
              "      <th>1</th>\n",
              "      <td>Dane</td>\n",
              "      <td>50.5</td>\n",
              "      <td>160</td>\n",
              "      <td>1997</td>\n",
              "      <td>male</td>\n",
              "      <td>New York</td>\n",
              "    </tr>\n",
              "    <tr>\n",
              "      <th>2</th>\n",
              "      <td>David</td>\n",
              "      <td>62.1</td>\n",
              "      <td>162</td>\n",
              "      <td>1996</td>\n",
              "      <td>male</td>\n",
              "      <td>Austin</td>\n",
              "    </tr>\n",
              "    <tr>\n",
              "      <th>3</th>\n",
              "      <td>Kevin</td>\n",
              "      <td>64.0</td>\n",
              "      <td>170</td>\n",
              "      <td>1977</td>\n",
              "      <td>male</td>\n",
              "      <td>New York</td>\n",
              "    </tr>\n",
              "    <tr>\n",
              "      <th>4</th>\n",
              "      <td>Joe</td>\n",
              "      <td>59.0</td>\n",
              "      <td>167</td>\n",
              "      <td>1998</td>\n",
              "      <td>male</td>\n",
              "      <td>NaN</td>\n",
              "    </tr>\n",
              "    <tr>\n",
              "      <th>5</th>\n",
              "      <td>Rose</td>\n",
              "      <td>42.5</td>\n",
              "      <td>159</td>\n",
              "      <td>2003</td>\n",
              "      <td>female</td>\n",
              "      <td>New York</td>\n",
              "    </tr>\n",
              "    <tr>\n",
              "      <th>6</th>\n",
              "      <td>Jane</td>\n",
              "      <td>40.8</td>\n",
              "      <td>150</td>\n",
              "      <td>2001</td>\n",
              "      <td>female</td>\n",
              "      <td>New York</td>\n",
              "    </tr>\n",
              "    <tr>\n",
              "      <th>7</th>\n",
              "      <td>Krista</td>\n",
              "      <td>41.5</td>\n",
              "      <td>148</td>\n",
              "      <td>2002</td>\n",
              "      <td>female</td>\n",
              "      <td>New York</td>\n",
              "    </tr>\n",
              "    <tr>\n",
              "      <th>8</th>\n",
              "      <td>Reiner</td>\n",
              "      <td>70.0</td>\n",
              "      <td>170</td>\n",
              "      <td>1999</td>\n",
              "      <td>male</td>\n",
              "      <td>New York</td>\n",
              "    </tr>\n",
              "  </tbody>\n",
              "</table>\n",
              "</div>\n",
              "      <button class=\"colab-df-convert\" onclick=\"convertToInteractive('df-8f3ff469-ad49-4266-8b72-4b770c85dca7')\"\n",
              "              title=\"Convert this dataframe to an interactive table.\"\n",
              "              style=\"display:none;\">\n",
              "        \n",
              "  <svg xmlns=\"http://www.w3.org/2000/svg\" height=\"24px\"viewBox=\"0 0 24 24\"\n",
              "       width=\"24px\">\n",
              "    <path d=\"M0 0h24v24H0V0z\" fill=\"none\"/>\n",
              "    <path d=\"M18.56 5.44l.94 2.06.94-2.06 2.06-.94-2.06-.94-.94-2.06-.94 2.06-2.06.94zm-11 1L8.5 8.5l.94-2.06 2.06-.94-2.06-.94L8.5 2.5l-.94 2.06-2.06.94zm10 10l.94 2.06.94-2.06 2.06-.94-2.06-.94-.94-2.06-.94 2.06-2.06.94z\"/><path d=\"M17.41 7.96l-1.37-1.37c-.4-.4-.92-.59-1.43-.59-.52 0-1.04.2-1.43.59L10.3 9.45l-7.72 7.72c-.78.78-.78 2.05 0 2.83L4 21.41c.39.39.9.59 1.41.59.51 0 1.02-.2 1.41-.59l7.78-7.78 2.81-2.81c.8-.78.8-2.07 0-2.86zM5.41 20L4 18.59l7.72-7.72 1.47 1.35L5.41 20z\"/>\n",
              "  </svg>\n",
              "      </button>\n",
              "      \n",
              "  <style>\n",
              "    .colab-df-container {\n",
              "      display:flex;\n",
              "      flex-wrap:wrap;\n",
              "      gap: 12px;\n",
              "    }\n",
              "\n",
              "    .colab-df-convert {\n",
              "      background-color: #E8F0FE;\n",
              "      border: none;\n",
              "      border-radius: 50%;\n",
              "      cursor: pointer;\n",
              "      display: none;\n",
              "      fill: #1967D2;\n",
              "      height: 32px;\n",
              "      padding: 0 0 0 0;\n",
              "      width: 32px;\n",
              "    }\n",
              "\n",
              "    .colab-df-convert:hover {\n",
              "      background-color: #E2EBFA;\n",
              "      box-shadow: 0px 1px 2px rgba(60, 64, 67, 0.3), 0px 1px 3px 1px rgba(60, 64, 67, 0.15);\n",
              "      fill: #174EA6;\n",
              "    }\n",
              "\n",
              "    [theme=dark] .colab-df-convert {\n",
              "      background-color: #3B4455;\n",
              "      fill: #D2E3FC;\n",
              "    }\n",
              "\n",
              "    [theme=dark] .colab-df-convert:hover {\n",
              "      background-color: #434B5C;\n",
              "      box-shadow: 0px 1px 3px 1px rgba(0, 0, 0, 0.15);\n",
              "      filter: drop-shadow(0px 1px 2px rgba(0, 0, 0, 0.3));\n",
              "      fill: #FFFFFF;\n",
              "    }\n",
              "  </style>\n",
              "\n",
              "      <script>\n",
              "        const buttonEl =\n",
              "          document.querySelector('#df-8f3ff469-ad49-4266-8b72-4b770c85dca7 button.colab-df-convert');\n",
              "        buttonEl.style.display =\n",
              "          google.colab.kernel.accessAllowed ? 'block' : 'none';\n",
              "\n",
              "        async function convertToInteractive(key) {\n",
              "          const element = document.querySelector('#df-8f3ff469-ad49-4266-8b72-4b770c85dca7');\n",
              "          const dataTable =\n",
              "            await google.colab.kernel.invokeFunction('convertToInteractive',\n",
              "                                                     [key], {});\n",
              "          if (!dataTable) return;\n",
              "\n",
              "          const docLinkHtml = 'Like what you see? Visit the ' +\n",
              "            '<a target=\"_blank\" href=https://colab.research.google.com/notebooks/data_table.ipynb>data table notebook</a>'\n",
              "            + ' to learn more about interactive tables.';\n",
              "          element.innerHTML = '';\n",
              "          dataTable['output_type'] = 'display_data';\n",
              "          await google.colab.output.renderOutput(dataTable, element);\n",
              "          const docLink = document.createElement('div');\n",
              "          docLink.innerHTML = docLinkHtml;\n",
              "          element.appendChild(docLink);\n",
              "        }\n",
              "      </script>\n",
              "    </div>\n",
              "  </div>\n",
              "  "
            ]
          },
          "metadata": {},
          "execution_count": 18
        }
      ],
      "source": [
        "df"
      ]
    },
    {
      "cell_type": "markdown",
      "id": "ea0afd3a",
      "metadata": {
        "id": "ea0afd3a"
      },
      "source": [
        "#### Nomor 3:"
      ]
    },
    {
      "cell_type": "code",
      "execution_count": null,
      "id": "cfc636e0",
      "metadata": {
        "id": "cfc636e0"
      },
      "outputs": [],
      "source": [
        "#mengisi missing value kolom city dengan modus\n",
        "df['city'].fillna(df['city'].mode()[0], inplace=True)"
      ]
    },
    {
      "cell_type": "code",
      "execution_count": null,
      "id": "e4150aeb",
      "metadata": {
        "id": "e4150aeb",
        "colab": {
          "base_uri": "https://localhost:8080/",
          "height": 332
        },
        "outputId": "988bd94f-79eb-4b36-ed48-f13f9d8aeac3"
      },
      "outputs": [
        {
          "output_type": "execute_result",
          "data": {
            "text/plain": [
              "     name  weight  height  birth_year  gender      city\n",
              "0    Anna    45.2     155        2000  female  New York\n",
              "1    Dane    50.5     160        1997    male  New York\n",
              "2   David    62.1     162        1996    male    Austin\n",
              "3   Kevin    64.0     170        1977    male  New York\n",
              "4     Joe    59.0     167        1998    male  New York\n",
              "5    Rose    42.5     159        2003  female  New York\n",
              "6    Jane    40.8     150        2001  female  New York\n",
              "7  Krista    41.5     148        2002  female  New York\n",
              "8  Reiner    70.0     170        1999    male  New York"
            ],
            "text/html": [
              "\n",
              "  <div id=\"df-c2a20eab-56fc-49d9-9bc4-395651b841d3\">\n",
              "    <div class=\"colab-df-container\">\n",
              "      <div>\n",
              "<style scoped>\n",
              "    .dataframe tbody tr th:only-of-type {\n",
              "        vertical-align: middle;\n",
              "    }\n",
              "\n",
              "    .dataframe tbody tr th {\n",
              "        vertical-align: top;\n",
              "    }\n",
              "\n",
              "    .dataframe thead th {\n",
              "        text-align: right;\n",
              "    }\n",
              "</style>\n",
              "<table border=\"1\" class=\"dataframe\">\n",
              "  <thead>\n",
              "    <tr style=\"text-align: right;\">\n",
              "      <th></th>\n",
              "      <th>name</th>\n",
              "      <th>weight</th>\n",
              "      <th>height</th>\n",
              "      <th>birth_year</th>\n",
              "      <th>gender</th>\n",
              "      <th>city</th>\n",
              "    </tr>\n",
              "  </thead>\n",
              "  <tbody>\n",
              "    <tr>\n",
              "      <th>0</th>\n",
              "      <td>Anna</td>\n",
              "      <td>45.2</td>\n",
              "      <td>155</td>\n",
              "      <td>2000</td>\n",
              "      <td>female</td>\n",
              "      <td>New York</td>\n",
              "    </tr>\n",
              "    <tr>\n",
              "      <th>1</th>\n",
              "      <td>Dane</td>\n",
              "      <td>50.5</td>\n",
              "      <td>160</td>\n",
              "      <td>1997</td>\n",
              "      <td>male</td>\n",
              "      <td>New York</td>\n",
              "    </tr>\n",
              "    <tr>\n",
              "      <th>2</th>\n",
              "      <td>David</td>\n",
              "      <td>62.1</td>\n",
              "      <td>162</td>\n",
              "      <td>1996</td>\n",
              "      <td>male</td>\n",
              "      <td>Austin</td>\n",
              "    </tr>\n",
              "    <tr>\n",
              "      <th>3</th>\n",
              "      <td>Kevin</td>\n",
              "      <td>64.0</td>\n",
              "      <td>170</td>\n",
              "      <td>1977</td>\n",
              "      <td>male</td>\n",
              "      <td>New York</td>\n",
              "    </tr>\n",
              "    <tr>\n",
              "      <th>4</th>\n",
              "      <td>Joe</td>\n",
              "      <td>59.0</td>\n",
              "      <td>167</td>\n",
              "      <td>1998</td>\n",
              "      <td>male</td>\n",
              "      <td>New York</td>\n",
              "    </tr>\n",
              "    <tr>\n",
              "      <th>5</th>\n",
              "      <td>Rose</td>\n",
              "      <td>42.5</td>\n",
              "      <td>159</td>\n",
              "      <td>2003</td>\n",
              "      <td>female</td>\n",
              "      <td>New York</td>\n",
              "    </tr>\n",
              "    <tr>\n",
              "      <th>6</th>\n",
              "      <td>Jane</td>\n",
              "      <td>40.8</td>\n",
              "      <td>150</td>\n",
              "      <td>2001</td>\n",
              "      <td>female</td>\n",
              "      <td>New York</td>\n",
              "    </tr>\n",
              "    <tr>\n",
              "      <th>7</th>\n",
              "      <td>Krista</td>\n",
              "      <td>41.5</td>\n",
              "      <td>148</td>\n",
              "      <td>2002</td>\n",
              "      <td>female</td>\n",
              "      <td>New York</td>\n",
              "    </tr>\n",
              "    <tr>\n",
              "      <th>8</th>\n",
              "      <td>Reiner</td>\n",
              "      <td>70.0</td>\n",
              "      <td>170</td>\n",
              "      <td>1999</td>\n",
              "      <td>male</td>\n",
              "      <td>New York</td>\n",
              "    </tr>\n",
              "  </tbody>\n",
              "</table>\n",
              "</div>\n",
              "      <button class=\"colab-df-convert\" onclick=\"convertToInteractive('df-c2a20eab-56fc-49d9-9bc4-395651b841d3')\"\n",
              "              title=\"Convert this dataframe to an interactive table.\"\n",
              "              style=\"display:none;\">\n",
              "        \n",
              "  <svg xmlns=\"http://www.w3.org/2000/svg\" height=\"24px\"viewBox=\"0 0 24 24\"\n",
              "       width=\"24px\">\n",
              "    <path d=\"M0 0h24v24H0V0z\" fill=\"none\"/>\n",
              "    <path d=\"M18.56 5.44l.94 2.06.94-2.06 2.06-.94-2.06-.94-.94-2.06-.94 2.06-2.06.94zm-11 1L8.5 8.5l.94-2.06 2.06-.94-2.06-.94L8.5 2.5l-.94 2.06-2.06.94zm10 10l.94 2.06.94-2.06 2.06-.94-2.06-.94-.94-2.06-.94 2.06-2.06.94z\"/><path d=\"M17.41 7.96l-1.37-1.37c-.4-.4-.92-.59-1.43-.59-.52 0-1.04.2-1.43.59L10.3 9.45l-7.72 7.72c-.78.78-.78 2.05 0 2.83L4 21.41c.39.39.9.59 1.41.59.51 0 1.02-.2 1.41-.59l7.78-7.78 2.81-2.81c.8-.78.8-2.07 0-2.86zM5.41 20L4 18.59l7.72-7.72 1.47 1.35L5.41 20z\"/>\n",
              "  </svg>\n",
              "      </button>\n",
              "      \n",
              "  <style>\n",
              "    .colab-df-container {\n",
              "      display:flex;\n",
              "      flex-wrap:wrap;\n",
              "      gap: 12px;\n",
              "    }\n",
              "\n",
              "    .colab-df-convert {\n",
              "      background-color: #E8F0FE;\n",
              "      border: none;\n",
              "      border-radius: 50%;\n",
              "      cursor: pointer;\n",
              "      display: none;\n",
              "      fill: #1967D2;\n",
              "      height: 32px;\n",
              "      padding: 0 0 0 0;\n",
              "      width: 32px;\n",
              "    }\n",
              "\n",
              "    .colab-df-convert:hover {\n",
              "      background-color: #E2EBFA;\n",
              "      box-shadow: 0px 1px 2px rgba(60, 64, 67, 0.3), 0px 1px 3px 1px rgba(60, 64, 67, 0.15);\n",
              "      fill: #174EA6;\n",
              "    }\n",
              "\n",
              "    [theme=dark] .colab-df-convert {\n",
              "      background-color: #3B4455;\n",
              "      fill: #D2E3FC;\n",
              "    }\n",
              "\n",
              "    [theme=dark] .colab-df-convert:hover {\n",
              "      background-color: #434B5C;\n",
              "      box-shadow: 0px 1px 3px 1px rgba(0, 0, 0, 0.15);\n",
              "      filter: drop-shadow(0px 1px 2px rgba(0, 0, 0, 0.3));\n",
              "      fill: #FFFFFF;\n",
              "    }\n",
              "  </style>\n",
              "\n",
              "      <script>\n",
              "        const buttonEl =\n",
              "          document.querySelector('#df-c2a20eab-56fc-49d9-9bc4-395651b841d3 button.colab-df-convert');\n",
              "        buttonEl.style.display =\n",
              "          google.colab.kernel.accessAllowed ? 'block' : 'none';\n",
              "\n",
              "        async function convertToInteractive(key) {\n",
              "          const element = document.querySelector('#df-c2a20eab-56fc-49d9-9bc4-395651b841d3');\n",
              "          const dataTable =\n",
              "            await google.colab.kernel.invokeFunction('convertToInteractive',\n",
              "                                                     [key], {});\n",
              "          if (!dataTable) return;\n",
              "\n",
              "          const docLinkHtml = 'Like what you see? Visit the ' +\n",
              "            '<a target=\"_blank\" href=https://colab.research.google.com/notebooks/data_table.ipynb>data table notebook</a>'\n",
              "            + ' to learn more about interactive tables.';\n",
              "          element.innerHTML = '';\n",
              "          dataTable['output_type'] = 'display_data';\n",
              "          await google.colab.output.renderOutput(dataTable, element);\n",
              "          const docLink = document.createElement('div');\n",
              "          docLink.innerHTML = docLinkHtml;\n",
              "          element.appendChild(docLink);\n",
              "        }\n",
              "      </script>\n",
              "    </div>\n",
              "  </div>\n",
              "  "
            ]
          },
          "metadata": {},
          "execution_count": 20
        }
      ],
      "source": [
        "df"
      ]
    },
    {
      "cell_type": "markdown",
      "id": "3315f43f",
      "metadata": {
        "id": "3315f43f"
      },
      "source": [
        "#### Nomor 4:"
      ]
    },
    {
      "cell_type": "code",
      "execution_count": null,
      "id": "985aeed7",
      "metadata": {
        "id": "985aeed7",
        "colab": {
          "base_uri": "https://localhost:8080/",
          "height": 279
        },
        "outputId": "6680c21d-7297-4501-c6fd-253f95537e51"
      },
      "outputs": [
        {
          "output_type": "display_data",
          "data": {
            "text/plain": [
              "<Figure size 432x288 with 1 Axes>"
            ],
            "image/png": "[encoded data removed]"
          },
          "metadata": {
            "needs_background": "light"
          }
        }
      ],
      "source": [
        "#melihat outlier kolom height\n",
        "sns.boxplot(data = df, x = 'height')\n",
        "plt.show()"
      ]
    },
    {
      "cell_type": "code",
      "execution_count": null,
      "id": "f8970708",
      "metadata": {
        "id": "f8970708",
        "colab": {
          "base_uri": "https://localhost:8080/",
          "height": 279
        },
        "outputId": "0c4aefc2-0f6a-4bb5-a673-5263be5265cd"
      },
      "outputs": [
        {
          "output_type": "display_data",
          "data": {
            "text/plain": [
              "<Figure size 432x288 with 1 Axes>"
            ],
            "image/png": "[encoded data removed]"
          },
          "metadata": {
            "needs_background": "light"
          }
        }
      ],
      "source": [
        "#melihat outlier kolom weight\n",
        "sns.boxplot(data = df, x = 'weight')\n",
        "plt.show()"
      ]
    },
    {
      "cell_type": "code",
      "execution_count": null,
      "id": "d03c901a",
      "metadata": {
        "id": "d03c901a",
        "colab": {
          "base_uri": "https://localhost:8080/",
          "height": 280
        },
        "outputId": "aed2ba4e-5662-4a99-9275-2ffb5331a0af"
      },
      "outputs": [
        {
          "output_type": "display_data",
          "data": {
            "text/plain": [
              "<Figure size 432x288 with 1 Axes>"
            ],
            "image/png": "[encoded data removed]"
          },
          "metadata": {
            "needs_background": "light"
          }
        }
      ],
      "source": [
        "#melihat outlier kolom birth_year\n",
        "sns.boxplot(data = df, x = 'birth_year')\n",
        "plt.show()"
      ]
    },
    {
      "cell_type": "markdown",
      "source": [
        "a. Untuk kolom variabel birth_year terdapat outlier yaitu Kevin\n",
        "\n",
        "b. Karena tahun lahir Kevin terpaut jauh dari nilai pada umumnya atau rangenya sehingga dapat kita sebut sebagai pencilan atau outlier"
      ],
      "metadata": {
        "id": "mGE_l9xiF-Nn"
      },
      "id": "mGE_l9xiF-Nn"
    }
  ],
  "metadata": {
    "kernelspec": {
      "display_name": "Python 3",
      "language": "python",
      "name": "python3"
    },
    "language_info": {
      "codemirror_mode": {
        "name": "ipython",
        "version": 3
      },
      "file_extension": ".py",
      "mimetype": "text/x-python",
      "name": "python",
      "nbconvert_exporter": "python",
      "pygments_lexer": "ipython3",
      "version": "3.7.0"
    },
    "colab": {
      "provenance": []
    }
  },
  "nbformat": 4,
  "nbformat_minor": 5
}